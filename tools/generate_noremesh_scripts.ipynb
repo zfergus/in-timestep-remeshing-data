{
 "cells": [
  {
   "cell_type": "code",
   "execution_count": 2,
   "metadata": {},
   "outputs": [],
   "source": [
    "import json\n",
    "import pathlib"
   ]
  },
  {
   "cell_type": "code",
   "execution_count": 3,
   "metadata": {},
   "outputs": [],
   "source": [
    "scripts = pathlib.Path(\"../scripts\")"
   ]
  },
  {
   "cell_type": "code",
   "execution_count": 20,
   "metadata": {},
   "outputs": [],
   "source": [
    "noremesh = {\n",
    "    \"common\": \"REPLACE_ME\",\n",
    "    \"space\": {\n",
    "        \"remesh\": {\n",
    "            \"enabled\": False\n",
    "        }\n",
    "    }\n",
    "}\n",
    "\n",
    "for script in scripts.rglob(\"*.json\"):\n",
    "    if(script.name == \"common.json\" or \"noremesh\" in script.name):\n",
    "        continue\n",
    "\n",
    "    noremesh_name = script.parent / f\"{script.stem}-noremesh{script.suffix}\"\n",
    "    noremesh[\"common\"] = str(script.name)\n",
    "    # pathlib.Path(noremesh_name).unlink(missing_ok=True)\n",
    "    with open(noremesh_name, 'w') as f:\n",
    "        json.dump(noremesh, f, separators=(',', ':'))\n",
    "    "
   ]
  },
  {
   "cell_type": "code",
   "execution_count": null,
   "metadata": {},
   "outputs": [],
   "source": []
  }
 ],
 "metadata": {
  "kernelspec": {
   "display_name": "Python 3",
   "language": "python",
   "name": "python3"
  },
  "language_info": {
   "codemirror_mode": {
    "name": "ipython",
    "version": 3
   },
   "file_extension": ".py",
   "mimetype": "text/x-python",
   "name": "python",
   "nbconvert_exporter": "python",
   "pygments_lexer": "ipython3",
   "version": "3.8.6 (default, Oct 11 2020, 20:34:31) \n[GCC Intel(R) C++ gcc 8.3.1 mode]"
  },
  "orig_nbformat": 4,
  "vscode": {
   "interpreter": {
    "hash": "5b3ded1ccb95c1d9bd405e7b823d9e85424cde40fbb5985eb47e999ef50e15b4"
   }
  }
 },
 "nbformat": 4,
 "nbformat_minor": 2
}
