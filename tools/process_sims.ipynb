{
 "cells": [
  {
   "cell_type": "code",
   "execution_count": 24,
   "metadata": {},
   "outputs": [],
   "source": [
    "import numpy as np\n",
    "from scipy.spatial.transform import Rotation as R\n",
    "import pathlib\n",
    "import xml.etree.ElementTree as ET\n",
    "from matplotlib import cm\n",
    "import meshio\n",
    "import trimesh\n",
    "import igl\n",
    "from tqdm import tqdm_notebook as tqdm"
   ]
  },
  {
   "cell_type": "code",
   "execution_count": 6,
   "metadata": {},
   "outputs": [],
   "source": [
    "def resolve_path(path, root: pathlib.Path) -> pathlib.Path:\n",
    "    path = pathlib.Path(path)\n",
    "    if path.is_absolute():\n",
    "        return path\n",
    "    return (root / path).resolve()\n",
    "\n",
    "\n",
    "def parse_vtm(path):\n",
    "    tree = ET.parse(path)\n",
    "    root = tree.getroot()\n",
    "    blocks = root.find(\"vtkMultiBlockDataSet\").findall(\"Block\")\n",
    "    # assert(len(blocks) == 1)\n",
    "    for block in blocks:\n",
    "        if block.get(\"name\") == \"Volume\":\n",
    "            break\n",
    "    dataset = block.find(\"DataSet\")\n",
    "    return resolve_path(dataset.attrib[\"file\"], path.parent)\n",
    "\n",
    "\n",
    "def parse_pvd(path):\n",
    "    tree = ET.parse(path)\n",
    "    root = tree.getroot()\n",
    "    frames = root.find(\"Collection\").findall(\"DataSet\")\n",
    "    assert(len(frames) > 0)\n",
    "\n",
    "    meshes = []\n",
    "    for f in map(lambda f: f.attrib[\"file\"], frames):\n",
    "        f = resolve_path(f, path.parent)\n",
    "        if f.suffix == \".vtm\":\n",
    "            f = parse_vtm(f)\n",
    "        meshes.append(resolve_path(f, path.parent))\n",
    "\n",
    "    return meshes"
   ]
  },
  {
   "cell_type": "code",
   "execution_count": 22,
   "metadata": {},
   "outputs": [],
   "source": [
    "def fix_normals(V, F):\n",
    "    mesh = trimesh.Trimesh(V, F, process=False, validate=False)\n",
    "    trimesh.repair.fix_normals(mesh)\n",
    "    return mesh.faces\n",
    "\n",
    "\n",
    "def load_mesh(path):\n",
    "    mesh = meshio.read(path)\n",
    "\n",
    "    V, I, J, _ = igl.remove_duplicate_vertices(\n",
    "        mesh.points, np.array([], dtype=int), 1e-7)\n",
    "\n",
    "    CV = []  # codim vertices\n",
    "    E = []  # edges\n",
    "    F = []  # triangles\n",
    "    for cells in mesh.cells:\n",
    "        if cells.type == \"triangle\":\n",
    "            F.append(J[cells.data])\n",
    "        elif cells.type == \"tetra\":\n",
    "            F.append(fix_normals(V, igl.boundary_facets(J[cells.data])))\n",
    "        elif cells.type == \"line\":\n",
    "            E.append(J[cells.data])\n",
    "        elif cells.type == \"vertex\":\n",
    "            CV.append(J[cells.data])\n",
    "        else:\n",
    "            raise Exception(\"Unsupported cell type: {}\".format(cells.type))\n",
    "\n",
    "    cells = []\n",
    "    if F:\n",
    "        cells.append((\"triangle\", np.vstack(F)))\n",
    "    if E:\n",
    "        cells.append((\"line\", np.vstack(E)))\n",
    "    if CV:\n",
    "        cells.append((\"vertex\", np.vstack(CV)))\n",
    "\n",
    "    if \"solution\" in mesh.point_data:\n",
    "        V += mesh.point_data[\"solution\"][I]\n",
    "\n",
    "    point_data = dict((k, v[I]) for k, v in mesh.point_data.items())\n",
    "    # if \"E\" in point_data:\n",
    "    #     point_data[\"is_obstacle\"] = (point_data[\"E\"] == 0).flatten()\n",
    "    # else:\n",
    "    #     point_data[\"is_obstacle\"] = np.zeros((V.shape[0],), dtype=bool)\n",
    "\n",
    "    mesh = meshio.Mesh(points=V, cells=cells, point_data=point_data)\n",
    "\n",
    "    return mesh\n"
   ]
  },
  {
   "cell_type": "code",
   "execution_count": 25,
   "metadata": {},
   "outputs": [
    {
     "name": "stderr",
     "output_type": "stream",
     "text": [
      "<ipython-input-25-a5ddfb5a8c67>:25: TqdmDeprecationWarning: This function will be removed in tqdm==5.0.0\n",
      "Please use `tqdm.notebook.tqdm` instead of `tqdm.tqdm_notebook`\n",
      "  for i, mesh_path in enumerate(tqdm(seq[\"meshes\"])):\n"
     ]
    },
    {
     "data": {
      "application/vnd.jupyter.widget-view+json": {
       "model_id": "cc451ac02a5b482ba006368bd7de17b1",
       "version_major": 2,
       "version_minor": 0
      },
      "text/plain": [
       "  0%|          | 0/170 [00:00<?, ?it/s]"
      ]
     },
     "metadata": {},
     "output_type": "display_data"
    }
   ],
   "source": [
    "sim_files = [\n",
    "    pathlib.Path(\"/home/zjf214/scratch/remeshing-project/results/spikes3d/drop-ball/2023_01_22_21_47_29_282/sim.pvd\")\n",
    "]\n",
    "\n",
    "mesh_sequences = [{\n",
    "    \"name\": \"misc\",\n",
    "    \"meshes\": []\n",
    "}]\n",
    "for f in sim_files:\n",
    "    if f.suffix == \".pvd\":\n",
    "        mesh_sequences.append({\n",
    "            \"name\": f,\n",
    "            \"meshes\": parse_pvd(f)\n",
    "        })\n",
    "    else:\n",
    "        mesh_sequences[0][\"meshes\"].append(f)\n",
    "\n",
    "for seq in mesh_sequences:\n",
    "    if not seq[\"meshes\"]:\n",
    "        continue\n",
    "\n",
    "    out_dir = pathlib.Path(\"../blender\") / seq[\"name\"].parents[1].stem\n",
    "    out_dir.mkdir(parents=True, exist_ok=True)\n",
    "\n",
    "    for i, mesh_path in enumerate(tqdm(seq[\"meshes\"])):\n",
    "        mesh = load_mesh(mesh_path)\n",
    "        meshio.write(out_dir / f\"{i}.vtu\", mesh)\n",
    "\n",
    "    meshes = [load_mesh(mesh_path) for mesh_path in seq[\"meshes\"]]\n",
    "\n",
    "    # TODO: save the meshes"
   ]
  },
  {
   "cell_type": "code",
   "execution_count": null,
   "metadata": {},
   "outputs": [],
   "source": []
  }
 ],
 "metadata": {
  "kernelspec": {
   "display_name": "Python 3",
   "language": "python",
   "name": "python3"
  },
  "language_info": {
   "codemirror_mode": {
    "name": "ipython",
    "version": 3
   },
   "file_extension": ".py",
   "mimetype": "text/x-python",
   "name": "python",
   "nbconvert_exporter": "python",
   "pygments_lexer": "ipython3",
   "version": "3.8.6"
  },
  "orig_nbformat": 4,
  "vscode": {
   "interpreter": {
    "hash": "5b3ded1ccb95c1d9bd405e7b823d9e85424cde40fbb5985eb47e999ef50e15b4"
   }
  }
 },
 "nbformat": 4,
 "nbformat_minor": 2
}
