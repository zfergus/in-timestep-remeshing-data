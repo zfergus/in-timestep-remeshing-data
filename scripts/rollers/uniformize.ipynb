{
 "cells": [
  {
   "cell_type": "code",
   "execution_count": 8,
   "metadata": {},
   "outputs": [],
   "source": [
    "import meshio as mio\n",
    "import meshplot as mp\n",
    "import numpy as np"
   ]
  },
  {
   "cell_type": "code",
   "execution_count": 48,
   "metadata": {},
   "outputs": [],
   "source": [
    "name = \"whale\"\n",
    "m = mio.read(f\"{name}.msh\", file_format=\"gmsh\")\n",
    "\n",
    "m.points -= np.min(m.points, axis=0)\n",
    "scale = np.max(np.max(m.points, axis=0))\n",
    "m.points /= scale / 1.2\n",
    "m.points -= 1\n",
    "\n",
    "m.points -= (np.min(m.points, axis=0) + np.max(m.points, axis=0))/2\n",
    "\n",
    "\n",
    "cells = [(\"tetra\",m.cells[0].data.copy())]\n",
    "mesh = mio.Mesh(m.points.copy(), cells)\n",
    "mesh.write(f\"{name}_u.msh\", file_format=\"gmsh\")"
   ]
  },
  {
   "cell_type": "code",
   "execution_count": 40,
   "metadata": {},
   "outputs": [
    {
     "data": {
      "text/plain": [
       "array([[   67,    71,    28, 16885],\n",
       "       [ 1086,  3820,  9368,  9761],\n",
       "       [ 9249,  2187,  3963,  9961],\n",
       "       ...,\n",
       "       [17109, 18387, 17929, 10903],\n",
       "       [18387, 17930, 10903, 17109],\n",
       "       [17686, 18386, 16433,  3495]])"
      ]
     },
     "execution_count": 40,
     "metadata": {},
     "output_type": "execute_result"
    }
   ],
   "source": []
  },
  {
   "cell_type": "code",
   "execution_count": 28,
   "metadata": {},
   "outputs": [
    {
     "data": {
      "application/vnd.jupyter.widget-view+json": {
       "model_id": "3aca8f4b1d7742ae8465e7216e25d1f3",
       "version_major": 2,
       "version_minor": 0
      },
      "text/plain": [
       "Renderer(camera=PerspectiveCamera(children=(DirectionalLight(color='white', intensity=0.6, position=(0.0, -0.1…"
      ]
     },
     "metadata": {},
     "output_type": "display_data"
    },
    {
     "data": {
      "text/plain": [
       "<meshplot.Viewer.Viewer at 0x7f945035eb00>"
      ]
     },
     "execution_count": 28,
     "metadata": {},
     "output_type": "execute_result"
    }
   ],
   "source": [
    "mp.plot(m.points, shading={\"point_size\":0.2})"
   ]
  },
  {
   "cell_type": "code",
   "execution_count": null,
   "metadata": {},
   "outputs": [],
   "source": []
  }
 ],
 "metadata": {
  "kernelspec": {
   "display_name": "base2",
   "language": "python",
   "name": "python3"
  },
  "language_info": {
   "codemirror_mode": {
    "name": "ipython",
    "version": 3
   },
   "file_extension": ".py",
   "mimetype": "text/x-python",
   "name": "python",
   "nbconvert_exporter": "python",
   "pygments_lexer": "ipython3",
   "version": "3.10.6 (main, Oct 24 2022, 16:07:47) [GCC 11.2.0]"
  },
  "orig_nbformat": 4,
  "vscode": {
   "interpreter": {
    "hash": "9f46129ec53c2293126ab74e7857b636d44fbd98601e6b37ac631cb273453cd0"
   }
  }
 },
 "nbformat": 4,
 "nbformat_minor": 2
}
