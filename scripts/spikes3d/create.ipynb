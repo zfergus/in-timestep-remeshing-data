{
 "cells": [
  {
   "cell_type": "code",
   "execution_count": 58,
   "metadata": {},
   "outputs": [],
   "source": [
    "import tetgen as tg\n",
    "import numpy as np\n",
    "import matplotlib.pyplot as pl\n",
    "import meshplot as mp\n",
    "import json\n",
    "import meshio as mio"
   ]
  },
  {
   "cell_type": "code",
   "execution_count": 154,
   "metadata": {},
   "outputs": [],
   "source": [
    "box_is_obstacle = False\n",
    "sh = 1\n",
    "sb = 0.1\n",
    "n_spikes = 10\n",
    "\n",
    "bh = 0.6\n",
    "bb = 0.4\n",
    "bho = -0.05\n",
    "bbo = -0.1\n",
    "a = 0.00005\n",
    "# a = 100000\n",
    "\n",
    "v = np.array([\n",
    "    [-sb/2, 0, -sb/2],\n",
    "    [-sb/2, 0, sb/2],\n",
    "    [sb/2, 0, sb/2],\n",
    "    [sb/2, 0, -sb/2],\n",
    "    [0, sh, 0]])\n",
    "f = np.array([\n",
    "    [0, 1, 2],\n",
    "    [0, 2, 3],\n",
    "    [0, 1, 4],\n",
    "    [1, 2, 4],\n",
    "    [2, 3, 4],\n",
    "    [3, 0, 4],\n",
    "    ])\n",
    "\n",
    "gen = tg.TetGen(v, f)\n",
    "v, f = gen.tetrahedralize(switches=f\"Qpqa{a}\")\n",
    "\n",
    "trans = np.array([[2*t*sb] for t in range(n_spikes)])\n",
    "tx, tz = np.meshgrid(trans, trans)\n",
    "trans = np.column_stack((tx.flatten(), np.zeros_like(tx.flatten()), tz.flatten()))\n",
    "spike_center = np.mean(trans, axis=0)\n",
    "\n",
    "\n",
    "box_v = np.array([\n",
    "    [-bb+bbo, sh+bho, -bb+bbo],\n",
    "    [bbo, sh+bho, -bb+bbo],\n",
    "    [bbo, sh+bho, bbo],\n",
    "    [-bb+bbo, sh+bho, bbo],\n",
    "\n",
    "#4\n",
    "    [-bb+bbo, sh+bho+bh, -bb+bbo],\n",
    "    [bbo, sh+bho+bh, -bb+bbo],\n",
    "    [bbo, sh+bho+bh, bbo],\n",
    "    [-bb+bbo, sh+bho+bh, bbo]\n",
    "])\n",
    "\n",
    "box_f = np.array([\n",
    "    [0, 1, 2],\n",
    "    [0, 2, 3],\n",
    "\n",
    "    [0, 1, 4],\n",
    "    [1, 4, 5],\n",
    "\n",
    "    [1, 2, 5],\n",
    "    [2, 5, 6],\n",
    "\n",
    "    [2, 3, 6],\n",
    "    [3, 6, 7],\n",
    "\n",
    "    [3, 0, 7],\n",
    "    [0, 7, 4],\n",
    "\n",
    "    [4, 5, 6],\n",
    "    [4, 6, 7],\n",
    "])\n",
    "\n",
    "\n",
    "box_center = np.mean(box_v, axis=0)\n",
    "\n",
    "\n",
    "gen = tg.TetGen(box_v, box_f)\n",
    "box_v, box_f = gen.tetrahedralize(switches=f\"Qpqa{a}\")\n"
   ]
  },
  {
   "cell_type": "code",
   "execution_count": 155,
   "metadata": {},
   "outputs": [
    {
     "data": {
      "text/plain": [
       "(array([ 1.2 , -1.25,  1.2 ]),\n",
       " array([0.9, 0. , 0.9]),\n",
       " array([-0.3 ,  1.25, -0.3 ]))"
      ]
     },
     "execution_count": 155,
     "metadata": {},
     "output_type": "execute_result"
    }
   ],
   "source": [
    "radius =  spike_center - box_center\n",
    "\n",
    "t = 0\n",
    "\n",
    "def traj(t):\n",
    "    point = [np.sin(2*np.pi*t+np.pi/4)/np.sqrt(2)*radius[0]*2, radius[1], np.cos(2*np.pi*t + np.pi/4)/np.sqrt(2)*radius[2]*2]\n",
    "    # point[0] *= np.cos(2*np.pi*t)/2+0.5\n",
    "    # point[2] *= np.cos(2*np.pi*t)/2+0.5\n",
    "\n",
    "    point[0] *= (1 - t)\n",
    "    point[2] *= (1 - t)\n",
    "    point = spike_center - point\n",
    "    return point\n",
    "\n",
    "traj(0) - box_center\n",
    "# np.cos(0)/2+0.5\n",
    "\n",
    "radius, spike_center, box_center"
   ]
  },
  {
   "cell_type": "code",
   "execution_count": 156,
   "metadata": {},
   "outputs": [],
   "source": [
    "pp = np.array([traj(2*t/40) for t in range(41)])\n",
    "# pp"
   ]
  },
  {
   "cell_type": "code",
   "execution_count": 157,
   "metadata": {},
   "outputs": [
    {
     "data": {
      "application/vnd.jupyter.widget-view+json": {
       "model_id": "1baac01a256b45cb90d80be604f5abc6",
       "version_major": 2,
       "version_minor": 0
      },
      "text/plain": [
       "Renderer(camera=PerspectiveCamera(children=(DirectionalLight(color='white', intensity=0.6, position=(-0.300000…"
      ]
     },
     "metadata": {},
     "output_type": "display_data"
    },
    {
     "data": {
      "text/plain": [
       "101"
      ]
     },
     "execution_count": 157,
     "metadata": {},
     "output_type": "execute_result"
    }
   ],
   "source": [
    "p = mp.plot(box_v, box_f, shading={\"wireframe\": True})\n",
    "for t in trans:\n",
    "    p.add_mesh(v+t, f)\n",
    "\n",
    "p.add_points(pp, shading={\"point_size\": 1})"
   ]
  },
  {
   "cell_type": "code",
   "execution_count": 158,
   "metadata": {},
   "outputs": [],
   "source": [
    "sim = {\n",
    "    \"common\": \"common.json\",\n",
    "    \"geometry\": []\n",
    "}\n",
    "\n",
    "for t in trans:\n",
    "    sim[\"geometry\"].append({\n",
    "        \"mesh\": \"spike.msh\",\n",
    "        \"transformation\": {\n",
    "            \"translation\": [np.round(t[0]*1000)/1000, np.round(t[1]*1000)/1000, np.round(t[2]*1000)/1000]\n",
    "        },\n",
    "        \"volume_selection\": 1,\n",
    "        \"surface_selection\": {\n",
    "            \"id\": 1,\n",
    "            \"axis\": -2,\n",
    "            \"position\": 0.01\n",
    "        }\n",
    "    })\n",
    "\n",
    "if box_is_obstacle:\n",
    "    sim[\"geometry\"].append({\n",
    "        \"mesh\": \"box.msh\",\n",
    "        \"surface_selection\": 2,\n",
    "        \"is_obstacle\": True\n",
    "    })\n",
    "else:\n",
    "    sim[\"geometry\"].append({\n",
    "        \"mesh\": \"box.msh\",\n",
    "        \"volume_selection\": 2,\n",
    "        \"surface_selection\": {\n",
    "            \"id\": 2,\n",
    "            \"axis\": 2,\n",
    "            \"position\": sh+bho+bh-0.01\n",
    "        }\n",
    "    })\n",
    "\n",
    "with open(\"sim.json\", \"w\") as file:\n",
    "    json.dump(sim, file)\n",
    "\n",
    "cells = [(\"tetra\", f)]\n",
    "mesh = mio.Mesh(v, cells)\n",
    "mesh.write(\"spike.msh\", file_format=\"gmsh\")\n",
    "\n",
    "cells = [(\"tetra\", box_f)]\n",
    "mesh = mio.Mesh(box_v, cells)\n",
    "mesh.write(\"box.msh\", file_format=\"gmsh\")"
   ]
  },
  {
   "cell_type": "code",
   "execution_count": 161,
   "metadata": {},
   "outputs": [
    {
     "data": {
      "text/plain": [
       "['0.9 - sin(2*pi*t+pi/4)/sqrt(2)*2.4*(1-t) - -0.3',\n",
       " '0',\n",
       " '0.9 - cos(2*pi*t+pi/4)/sqrt(2)*2.4*(1-t) - -0.3']"
      ]
     },
     "execution_count": 161,
     "metadata": {},
     "output_type": "execute_result"
    }
   ],
   "source": [
    "[\n",
    "    f\"{spike_center[0]} - sin(2*pi*t+pi/4)/sqrt(2)*{np.round(2*radius[0]*100)/100}*(1-t) - {np.round(box_center[0]*100)/100}\",\n",
    "    \"0\",\n",
    "    f\"{spike_center[0]} - cos(2*pi*t+pi/4)/sqrt(2)*{np.round(2*radius[0]*100)/100}*(1-t) - {np.round(box_center[0]*100)/100}\"\n",
    "]"
   ]
  },
  {
   "cell_type": "code",
   "execution_count": null,
   "metadata": {},
   "outputs": [],
   "source": []
  }
 ],
 "metadata": {
  "kernelspec": {
   "display_name": "base2",
   "language": "python",
   "name": "python3"
  },
  "language_info": {
   "codemirror_mode": {
    "name": "ipython",
    "version": 3
   },
   "file_extension": ".py",
   "mimetype": "text/x-python",
   "name": "python",
   "nbconvert_exporter": "python",
   "pygments_lexer": "ipython3",
   "version": "3.10.6"
  },
  "orig_nbformat": 4,
  "vscode": {
   "interpreter": {
    "hash": "9f46129ec53c2293126ab74e7857b636d44fbd98601e6b37ac631cb273453cd0"
   }
  }
 },
 "nbformat": 4,
 "nbformat_minor": 2
}
