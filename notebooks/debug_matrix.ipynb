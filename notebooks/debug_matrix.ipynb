{
 "cells": [
  {
   "cell_type": "code",
   "execution_count": 51,
   "metadata": {},
   "outputs": [],
   "source": [
    "import pandas\n",
    "import scipy.sparse\n",
    "import scipy.sparse.linalg\n",
    "import numpy\n",
    "import igl\n",
    "import meshio\n",
    "# import betterspy"
   ]
  },
  {
   "cell_type": "code",
   "execution_count": 41,
   "metadata": {},
   "outputs": [],
   "source": [
    "def read_matrix_from_csv(path):\n",
    "    _, *shape = pandas.read_csv(fname, header=None).loc[0]\n",
    "    shape = [int(s) for s in shape]\n",
    "    df = pandas.read_csv(fname, skiprows=1)\n",
    "    return scipy.sparse.coo_matrix((df[\"Val\"], (df[\"Row\"], df[\"Col\"])), shape=shape).tocsc()"
   ]
  },
  {
   "cell_type": "code",
   "execution_count": 42,
   "metadata": {},
   "outputs": [],
   "source": [
    "def describe(a):\n",
    "    print(pandas.DataFrame(a).describe())\n",
    "\n",
    "def describe_eigvals(M):\n",
    "    if scipy.sparse.issparse(M):\n",
    "        M = M.A\n",
    "    describe(sorted(abs(numpy.linalg.eigvals(M))))"
   ]
  },
  {
   "cell_type": "code",
   "execution_count": 13,
   "metadata": {},
   "outputs": [],
   "source": [
    "# betterspy.show(M)\n",
    "# betterspy.write_png(\n",
    "#     \"out.png\",\n",
    "#     M,\n",
    "#     # border_width=2,\n",
    "#     # border_color=\"red\",\n",
    "#     # colormap=\"viridis\"\n",
    "# )"
   ]
  },
  {
   "cell_type": "code",
   "execution_count": 7,
   "metadata": {},
   "outputs": [],
   "source": [
    "M = read_matrix_from_csv(\"mass.csv\")\n",
    "A = read_matrix_from_csv(\"A.csv\")"
   ]
  },
  {
   "cell_type": "code",
   "execution_count": 43,
   "metadata": {},
   "outputs": [],
   "source": [
    "rhs = M @ numpy.ones(M.shape[0])"
   ]
  },
  {
   "cell_type": "code",
   "execution_count": 44,
   "metadata": {},
   "outputs": [
    {
     "data": {
      "text/plain": [
       "0.0"
      ]
     },
     "execution_count": 44,
     "metadata": {},
     "output_type": "execute_result"
    }
   ],
   "source": [
    "numpy.linalg.det(M.A)"
   ]
  },
  {
   "cell_type": "code",
   "execution_count": 34,
   "metadata": {},
   "outputs": [
    {
     "name": "stdout",
     "output_type": "stream",
     "text": [
      "                  0\n",
      "count  2.160000e+02\n",
      "mean   9.815460e+03\n",
      "std    1.438759e+04\n",
      "min    0.000000e+00\n",
      "25%    8.614908e-13\n",
      "50%    1.938683e+03\n",
      "75%    1.569117e+04\n",
      "max    6.388889e+04\n"
     ]
    }
   ],
   "source": [
    "describe_eigvals(M)"
   ]
  },
  {
   "cell_type": "code",
   "execution_count": 45,
   "metadata": {},
   "outputs": [
    {
     "name": "stdout",
     "output_type": "stream",
     "text": [
      "                  0\n",
      "count  2.160000e+02\n",
      "mean   3.023878e+08\n",
      "std    6.560162e+08\n",
      "min    0.000000e+00\n",
      "25%    3.284358e-08\n",
      "50%    7.516987e+06\n",
      "75%    2.716761e+08\n",
      "max    4.081790e+09\n"
     ]
    }
   ],
   "source": [
    "describe_eigvals(M.T @ M)"
   ]
  },
  {
   "cell_type": "code",
   "execution_count": 36,
   "metadata": {},
   "outputs": [
    {
     "name": "stdout",
     "output_type": "stream",
     "text": [
      "                  0\n",
      "count  2.160000e+02\n",
      "mean   9.749094e+03\n",
      "std    1.429977e+04\n",
      "min    2.337671e-14\n",
      "25%    1.170052e-12\n",
      "50%    1.939183e+03\n",
      "75%    1.495976e+04\n",
      "max    6.388889e+04\n"
     ]
    }
   ],
   "source": [
    "MA = M.A\n",
    "MA[0, :] = 0\n",
    "MA[:, 0] = 0\n",
    "MA[0, 0] = 1\n",
    "describe_eigvals(MA)"
   ]
  },
  {
   "cell_type": "code",
   "execution_count": 49,
   "metadata": {},
   "outputs": [
    {
     "name": "stdout",
     "output_type": "stream",
     "text": [
      "Help on built-in function massmatrix in module igl.pyigl:\n",
      "\n",
      "massmatrix(...) method of builtins.PyCapsule instance\n",
      "    massmatrix(v: array, f: array, type: int = 1) -> object\n",
      "    \n",
      "    \n",
      "    Constructs the mass (area) matrix for a given mesh (V,F).\n",
      "    \n",
      "    Parameters\n",
      "    ----------\n",
      "    v : #v by dim list of mesh vertex positions\n",
      "    f : #f by simplex_size list of mesh faces (must be triangles)\n",
      "    type : one of the following types:\n",
      "           -igl.MASSMATRIX_TYPE_BARYCENTRIC  barycentric\n",
      "           -igl.MASSMATRIX_TYPE_VORONOI voronoi-hybrid (default)\n",
      "           -igl.MASSMATRIX_TYPE_FULL full (not implemented)\n",
      "    \n",
      "    Returns\n",
      "    -------\n",
      "    m : #v by #v mass matrix\n",
      "    \n",
      "    See also\n",
      "    --------\n",
      "    adjacency_matrix, cotmatrix, grad\n",
      "    \n",
      "    Notes\n",
      "    -----\n",
      "    \n",
      "    Examples\n",
      "    --------\n",
      "\n"
     ]
    }
   ],
   "source": [
    "help(igl.massmatrix)"
   ]
  },
  {
   "cell_type": "code",
   "execution_count": 73,
   "metadata": {},
   "outputs": [
    {
     "data": {
      "text/plain": [
       "True"
      ]
     },
     "execution_count": 73,
     "metadata": {},
     "output_type": "execute_result"
    }
   ],
   "source": [
    "mesh = meshio.read(\"arch.vtu\")\n",
    "V = mesh.points.astype(float)\n",
    "F = mesh.cells[0].data.astype(int)\n",
    "V, I, J, F = igl.remove_duplicate_vertices(V, F, 0)\n",
    "V.shape[0] * 2 == M.shape[0]"
   ]
  },
  {
   "cell_type": "code",
   "execution_count": 87,
   "metadata": {},
   "outputs": [
    {
     "name": "stdout",
     "output_type": "stream",
     "text": [
      "                0\n",
      "count  108.000000\n",
      "mean    12.802774\n",
      "std      3.775277\n",
      "min      5.668952\n",
      "25%     10.922695\n",
      "50%     12.058090\n",
      "75%     13.322315\n",
      "max     25.000000\n"
     ]
    }
   ],
   "source": [
    "M_igl = igl.massmatrix(V, F)\n",
    "describe_eigvals(M_igl)"
   ]
  },
  {
   "cell_type": "code",
   "execution_count": null,
   "metadata": {},
   "outputs": [],
   "source": [
    "M"
   ]
  },
  {
   "cell_type": "code",
   "execution_count": null,
   "metadata": {},
   "outputs": [],
   "source": []
  }
 ],
 "metadata": {
  "kernelspec": {
   "display_name": "Python 3.10.5 64-bit",
   "language": "python",
   "name": "python3"
  },
  "language_info": {
   "codemirror_mode": {
    "name": "ipython",
    "version": 3
   },
   "file_extension": ".py",
   "mimetype": "text/x-python",
   "name": "python",
   "nbconvert_exporter": "python",
   "pygments_lexer": "ipython3",
   "version": "3.10.5"
  },
  "orig_nbformat": 4,
  "vscode": {
   "interpreter": {
    "hash": "e7370f93d1d0cde622a1f8e1c04877d8463912d04d973331ad4851f04de6915a"
   }
  }
 },
 "nbformat": 4,
 "nbformat_minor": 2
}
