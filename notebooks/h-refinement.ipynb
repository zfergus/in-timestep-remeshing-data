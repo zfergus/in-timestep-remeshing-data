{
 "cells": [
  {
   "cell_type": "code",
   "execution_count": 1,
   "metadata": {},
   "outputs": [],
   "source": [
    "import numpy as np\n",
    "import meshplot as mp\n",
    "import meshio\n",
    "import triangle"
   ]
  },
  {
   "cell_type": "markdown",
   "metadata": {},
   "source": [
    "# Square"
   ]
  },
  {
   "cell_type": "code",
   "execution_count": 2,
   "metadata": {},
   "outputs": [],
   "source": [
    "def generate_isotropic_square_boundary(n=50):\n",
    "    points = []\n",
    "    for x in np.linspace(0, 1, n):\n",
    "        for y in [0, 1]:\n",
    "            points.append([x, y])\n",
    "    for y in np.linspace(0, 1, n):\n",
    "        for x in [0, 1]:\n",
    "            points.append([x, y])\n",
    "    points = np.array(points) - [0.5, 0.5] # center the square\n",
    "    points = np.unique(points, axis=0)\n",
    "    return points\n",
    "\n",
    "def generate_isotropic_square(n=50, allow_steiner=True):\n",
    "    points = generate_isotropic_square_boundary(n)\n",
    "    max_area = 1 / n**2\n",
    "    tri = triangle.triangulate({\"vertices\": points}, f'{\"\" if allow_steiner else \"Y\"}a{max_area:f}q')\n",
    "    return meshio.Mesh(tri[\"vertices\"], [(\"triangle\", tri[\"triangles\"])])"
   ]
  },
  {
   "cell_type": "code",
   "execution_count": 3,
   "metadata": {},
   "outputs": [],
   "source": [
    "def generate_anisotropic_square(nx=50, p=2, min_ny=4, max_ny=None, allow_steiner=True):\n",
    "    points = []\n",
    "    if max_ny is None:\n",
    "        max_ny = nx\n",
    "    for x in np.linspace(0, 1, nx):\n",
    "        ny = int((max_ny - min_ny) * (1 - x) + min_ny)\n",
    "        for y in np.linspace(0, 1, ny):\n",
    "            points.append([x**p, y])\n",
    "    points = np.array(points) - [0.5, 0.5] # center the square\n",
    "\n",
    "    tri = triangle.triangulate({\"vertices\": points}, f'{\"\" if allow_steiner else \"Y\"}q')\n",
    "    return meshio.Mesh(tri[\"vertices\"], [(\"triangle\", tri[\"triangles\"])])"
   ]
  },
  {
   "cell_type": "code",
   "execution_count": 4,
   "metadata": {},
   "outputs": [],
   "source": [
    "def plot_mesh(mesh, **kwargs):\n",
    "    shading = {\n",
    "        \"flat\": True, # Flat or smooth shading of triangles\n",
    "        \"wireframe\": True, \"wire_width\": 0.1, \"wire_color\": \"black\", # Wireframe rendering\n",
    "        \"width\": 600, \"height\": 600, # Size of the viewer canvas\n",
    "        \"antialias\": True, # Antialising, might not work on all GPUs\n",
    "        \"scale\": 2.0, # Scaling of the model\n",
    "        \"side\": \"DoubleSide\", # FrontSide, BackSide or DoubleSide rendering of the triangles\n",
    "        \"colormap\": \"viridis\", \"normalize\": [None, None], # Colormap and normalization for colors\n",
    "        \"background\": \"#ffffff\", # Background color of the canvas\n",
    "        \"line_width\": 2.0, \"line_color\": \"black\", # Line properties of overlay lines\n",
    "        \"bbox\": False, # Enable plotting of bounding box\n",
    "        \"point_color\": \"red\", \"point_size\": 0.05 # Point properties of overlay points\n",
    "    }\n",
    "    shading.update(kwargs)\n",
    "    return mp.plot(mesh.points, mesh.cells[0].data, shading=shading)"
   ]
  },
  {
   "cell_type": "code",
   "execution_count": 5,
   "metadata": {},
   "outputs": [],
   "source": [
    "for n in [2, 11, 21, 31, 41, 51]:\n",
    "    n = int(n)\n",
    "    isotropic_square = generate_isotropic_square(n=n)\n",
    "    isotropic_square.write(f\"../meshes/square/isotropic_h={1/(n-1):g}.msh\", file_format=\"gmsh\")"
   ]
  },
  {
   "cell_type": "code",
   "execution_count": 6,
   "metadata": {},
   "outputs": [],
   "source": [
    "# plot_mesh(isotropic_square)"
   ]
  },
  {
   "cell_type": "code",
   "execution_count": 7,
   "metadata": {},
   "outputs": [],
   "source": [
    "anisotropic_square = generate_anisotropic_square(max_ny=100)\n",
    "anisotropic_square.write(\"../meshes/square/anisotropic.msh\", file_format=\"gmsh\")\n",
    "# plot_mesh(anisotropic_square)"
   ]
  },
  {
   "cell_type": "markdown",
   "metadata": {},
   "source": [
    "# Circle"
   ]
  },
  {
   "cell_type": "code",
   "execution_count": 8,
   "metadata": {},
   "outputs": [],
   "source": [
    "def generate_isotropic_circle(h, allow_steiner=True):\n",
    "    r = 0.5\n",
    "    n = int(np.ceil(np.pi / np.arctan2(h, 2 * r)))\n",
    "    theta = np.linspace(0, 2 * np.pi, n, endpoint=False).reshape(-1, 1)\n",
    "    points = np.hstack([r * np.cos(theta), r * np.sin(theta)])\n",
    "    max_area = 1/2 * h**2\n",
    "    tri = triangle.triangulate({\"vertices\": points}, f'{\"\" if allow_steiner else \"Y\"}a{max_area:f}q')\n",
    "    return meshio.Mesh(tri[\"vertices\"], [(\"triangle\", tri[\"triangles\"])])"
   ]
  },
  {
   "cell_type": "code",
   "execution_count": 9,
   "metadata": {},
   "outputs": [],
   "source": [
    "def generate_squircle(n_points=100, radius=0.5, squareness=10, allow_steiner=True):\n",
    "    # t = np.linspace(0, 2 * np.pi, n_points, endpoint=False).reshape(-1, 1)\n",
    "    # squareness = 0.99\n",
    "    # right_term = np.sqrt(1 - np.sqrt(1 - squareness**2 * np.sin(2 * t)**2))\n",
    "    # x = (radius * np.sign(np.cos(t))) / (squareness * np.sqrt(2) * abs(np.sin(t))) * right_term\n",
    "    # y = (radius * np.sign(np.sin(t))) / (squareness * np.sqrt(2) * abs(np.cos(t))) * right_term\n",
    "    # x = radius * np.cos(t)\n",
    "    # y = radius * np.sin(t)\n",
    "    # points = np.hstack([x, y])\n",
    "    points = generate_isotropic_square_boundary(n_points // 4)\n",
    "    s = np.linalg.norm(points, axis=1, ord=squareness)\n",
    "    points /= s[:, None]\n",
    "    max_area = 0.5 * np.linalg.norm(points[1:] - points[0], axis=1).min()**2\n",
    "    # edges = np.hstack([np.arange(0, points.shape[0] - 1).reshape(-1, 1), np.arange(1, points.shape[0]).reshape(-1, 1)])\n",
    "    # return points, edges\n",
    "    tri = triangle.triangulate({\"vertices\": points}, f'{\"\" if allow_steiner else \"Y\"}a{max_area:f}q')\n",
    "    return meshio.Mesh(tri[\"vertices\"], [(\"triangle\", tri[\"triangles\"])])"
   ]
  },
  {
   "cell_type": "code",
   "execution_count": 10,
   "metadata": {},
   "outputs": [],
   "source": [
    "for h in (1 / np.arange(10, 60, 10)):\n",
    "    circle = generate_isotropic_circle(h)\n",
    "    circle.write(f\"../meshes/circle/isotropic_h={h:g}.msh\", file_format=\"gmsh\")"
   ]
  },
  {
   "cell_type": "code",
   "execution_count": 11,
   "metadata": {},
   "outputs": [
    {
     "name": "stderr",
     "output_type": "stream",
     "text": [
      "/home/zachary/.local/lib/python3.10/site-packages/jupyter_client/session.py:718: UserWarning: Message serialization failed with:\n",
      "Out of range float values are not JSON compliant\n",
      "Supporting this message is deprecated in jupyter-client 7, please make sure your message is JSON-compliant\n",
      "  content = self.pack(content)\n"
     ]
    },
    {
     "data": {
      "application/vnd.jupyter.widget-view+json": {
       "model_id": "84b2d2305d544aa6bd711aad0b3911b0",
       "version_major": 2,
       "version_minor": 0
      },
      "text/plain": [
       "Renderer(camera=PerspectiveCamera(children=(DirectionalLight(color='white', intensity=0.6, position=(0.0, 0.0,…"
      ]
     },
     "metadata": {},
     "output_type": "display_data"
    },
    {
     "data": {
      "text/plain": [
       "<meshplot.Viewer.Viewer at 0x7f6f26c2b880>"
      ]
     },
     "execution_count": 11,
     "metadata": {},
     "output_type": "execute_result"
    }
   ],
   "source": [
    "# squircle_points, squircle_edges = generate_squircle_boundary()\n",
    "squircle = generate_squircle(n_points=100, squareness=4)\n",
    "squircle.write(f\"../meshes/squircle.msh\", file_format=\"gmsh\")\n",
    "plot_mesh(squircle)"
   ]
  },
  {
   "cell_type": "markdown",
   "metadata": {},
   "source": [
    "# Beam"
   ]
  },
  {
   "cell_type": "code",
   "execution_count": 12,
   "metadata": {},
   "outputs": [],
   "source": [
    "def generate_beam_boundary(h=0.1):\n",
    "    width = 4\n",
    "    height = 0.5\n",
    "    points = []\n",
    "    for x in np.linspace(-width/2, width/2, int(np.ceil(width / h))):\n",
    "        for y in [-height/2, height/2]:\n",
    "            points.append([x, y])\n",
    "    for y in np.linspace(-height/2, height/2, int(np.ceil(height / h))):\n",
    "        for x in [-width/2, width/2]:\n",
    "            points.append([x, y])\n",
    "    points = np.unique(points, axis=0)\n",
    "    return points\n",
    "\n",
    "def generate_beam(h=0.1, allow_steiner=True):\n",
    "    points = generate_beam_boundary(h)\n",
    "    max_area = h**2\n",
    "    tri = triangle.triangulate({\"vertices\": points}, f'{\"\" if allow_steiner else \"Y\"}a{max_area:f}q')\n",
    "    return meshio.Mesh(tri[\"vertices\"], [(\"triangle\", tri[\"triangles\"])])"
   ]
  },
  {
   "cell_type": "code",
   "execution_count": 20,
   "metadata": {},
   "outputs": [
    {
     "data": {
      "application/vnd.jupyter.widget-view+json": {
       "model_id": "ad4cdfa5b1184c9e900a133d7d688431",
       "version_major": 2,
       "version_minor": 0
      },
      "text/plain": [
       "Renderer(camera=PerspectiveCamera(children=(DirectionalLight(color='white', intensity=0.6, position=(0.0, 0.0,…"
      ]
     },
     "metadata": {},
     "output_type": "display_data"
    }
   ],
   "source": [
    "for h in [0.05]:\n",
    "    beam = generate_beam(h=h)\n",
    "    beam.write(f\"../meshes/beam/isotropic_h={h:g}.msh\", file_format=\"gmsh\")\n",
    "    plot_mesh(beam)"
   ]
  },
  {
   "cell_type": "code",
   "execution_count": null,
   "metadata": {},
   "outputs": [],
   "source": []
  }
 ],
 "metadata": {
  "kernelspec": {
   "display_name": "Python 3.10.5 64-bit",
   "language": "python",
   "name": "python3"
  },
  "language_info": {
   "codemirror_mode": {
    "name": "ipython",
    "version": 3
   },
   "file_extension": ".py",
   "mimetype": "text/x-python",
   "name": "python",
   "nbconvert_exporter": "python",
   "pygments_lexer": "ipython3",
   "version": "3.10.5"
  },
  "orig_nbformat": 4,
  "vscode": {
   "interpreter": {
    "hash": "e7370f93d1d0cde622a1f8e1c04877d8463912d04d973331ad4851f04de6915a"
   }
  }
 },
 "nbformat": 4,
 "nbformat_minor": 2
}
