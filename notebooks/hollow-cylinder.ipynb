{
 "cells": [
  {
   "cell_type": "code",
   "execution_count": 19,
   "metadata": {},
   "outputs": [],
   "source": [
    "import numpy as np\n",
    "import meshio\n",
    "import meshplot as mp"
   ]
  },
  {
   "cell_type": "code",
   "execution_count": 20,
   "metadata": {},
   "outputs": [],
   "source": [
    "def tet_volume(a, b, c, d):\n",
    "    return np.cross(b - a, c - a).dot(d - a) / 6.0"
   ]
  },
  {
   "cell_type": "code",
   "execution_count": 21,
   "metadata": {},
   "outputs": [],
   "source": [
    "def hexes2tets(hexes):\n",
    "    # reference cube:\n",
    "    # 0: -0.5 -0.5 -0.5\n",
    "    # 1: 0.5 -0.5 -0.5\n",
    "    # 2: 0.5 -0.5 0.5\n",
    "    # 3: -0.5 -0.5 0.5\n",
    "    # 4: -0.5 0.5 -0.5\n",
    "    # 5: 0.5 0.5 -0.5\n",
    "    # 6: 0.5 0.5 0.5\n",
    "    # 7: -0.5 0.5 0.5\n",
    "\n",
    "    hex2tet = np.array([\n",
    "        [0, 4, 6, 5],\n",
    "        [3, 6, 2, 0],\n",
    "        [0, 4, 7, 6],\n",
    "        [3, 6, 0, 7],\n",
    "        [2, 0, 6, 1],\n",
    "        [6, 0, 5, 1],\n",
    "    ])\n",
    "\n",
    "    reorder = np.array([6, 2, 0, 4, 7, 3, 1, 5])\n",
    "\n",
    "    tets = []\n",
    "    for hex in hexes:\n",
    "        for tet in hex2tet:\n",
    "            tets.append(hex[reorder][tet][[0, 1, 3, 2]])\n",
    "    return np.asarray(tets)"
   ]
  },
  {
   "cell_type": "code",
   "execution_count": 22,
   "metadata": {},
   "outputs": [],
   "source": [
    "def print_stats(points, tets):\n",
    "    vols = [tet_volume(*points[tet]) for tet in tets]\n",
    "    print(min(vols), max(vols), sum(vols))"
   ]
  },
  {
   "cell_type": "code",
   "execution_count": 23,
   "metadata": {},
   "outputs": [],
   "source": [
    "LENGTH=5\n",
    "DIAMETER=LENGTH/2.5\n",
    "RADIUS=DIAMETER/2\n",
    "THICKNESS=0.01\n",
    "THETA_N=100\n",
    "side_length = np.sqrt(2 * RADIUS**2 * (1 - np.cos(2 * np.pi / THETA_N)))\n",
    "Z_N=int(np.round(LENGTH / side_length))"
   ]
  },
  {
   "cell_type": "code",
   "execution_count": 24,
   "metadata": {},
   "outputs": [],
   "source": [
    "theta = np.linspace(0, 2*np.pi, THETA_N, endpoint=False).reshape(-1, 1)\n",
    "outer_points = np.hstack([\n",
    "    RADIUS * np.cos(theta), RADIUS * np.sin(theta), np.zeros_like(theta)\n",
    "])\n",
    "inner_points = (RADIUS - THICKNESS)/RADIUS * outer_points\n",
    "zs = np.linspace(-LENGTH/2, LENGTH/2, Z_N)\n",
    "points = []\n",
    "for z in zs:\n",
    "    points.append(outer_points + np.array([0, 0, z]))\n",
    "    points.append(inner_points + np.array([0, 0, z]))\n",
    "points = np.vstack(points)"
   ]
  },
  {
   "cell_type": "code",
   "execution_count": 25,
   "metadata": {},
   "outputs": [],
   "source": [
    "hexes = []\n",
    "points_per_z = 2 * THETA_N\n",
    "for zi in range(Z_N-1):\n",
    "    z_offset = points_per_z * zi\n",
    "    for i in range(THETA_N):\n",
    "        hexes.append([\n",
    "            # outter ring\n",
    "            i + z_offset,\n",
    "            (i+1) % THETA_N + z_offset,\n",
    "            i + points_per_z + z_offset,\n",
    "            (i+1) % THETA_N + points_per_z + z_offset,\n",
    "            # inner ring\n",
    "            i + THETA_N + z_offset,\n",
    "            (i+1) % THETA_N + THETA_N + z_offset,\n",
    "            i + THETA_N + points_per_z + z_offset,\n",
    "            (i+1) % THETA_N + THETA_N + points_per_z + z_offset,\n",
    "        ])\n",
    "hexes = np.asarray(hexes)"
   ]
  },
  {
   "cell_type": "code",
   "execution_count": 26,
   "metadata": {},
   "outputs": [
    {
     "name": "stdout",
     "output_type": "stream",
     "text": [
      "6.557237798947155e-06 6.6234725241893034e-06 0.3123828346583093\n"
     ]
    }
   ],
   "source": [
    "tets = hexes2tets(hexes)\n",
    "print_stats(points, tets)"
   ]
  },
  {
   "cell_type": "code",
   "execution_count": 27,
   "metadata": {},
   "outputs": [
    {
     "data": {
      "application/vnd.jupyter.widget-view+json": {
       "model_id": "bfdd40a47bb1469baff176ac090716e3",
       "version_major": 2,
       "version_minor": 0
      },
      "text/plain": [
       "Renderer(camera=PerspectiveCamera(children=(DirectionalLight(color='white', intensity=0.6, position=(0.0, 0.0,…"
      ]
     },
     "metadata": {},
     "output_type": "display_data"
    }
   ],
   "source": [
    "mp.plot(points, tets, shading={\"point_size\": 0.1, \"wireframe\": True})\n",
    "meshio.Mesh(points, {\"tetra\": tets}).write(f\"../meshes/hollow-cylinder/N={THETA_N:d}.msh\", file_format=\"gmsh\")"
   ]
  },
  {
   "cell_type": "code",
   "execution_count": null,
   "metadata": {},
   "outputs": [],
   "source": []
  },
  {
   "cell_type": "code",
   "execution_count": null,
   "metadata": {},
   "outputs": [],
   "source": []
  }
 ],
 "metadata": {
  "kernelspec": {
   "display_name": "Python 3",
   "language": "python",
   "name": "python3"
  },
  "language_info": {
   "codemirror_mode": {
    "name": "ipython",
    "version": 3
   },
   "file_extension": ".py",
   "mimetype": "text/x-python",
   "name": "python",
   "nbconvert_exporter": "python",
   "pygments_lexer": "ipython3",
   "version": "3.10.6"
  },
  "orig_nbformat": 4,
  "vscode": {
   "interpreter": {
    "hash": "e7370f93d1d0cde622a1f8e1c04877d8463912d04d973331ad4851f04de6915a"
   }
  }
 },
 "nbformat": 4,
 "nbformat_minor": 2
}
