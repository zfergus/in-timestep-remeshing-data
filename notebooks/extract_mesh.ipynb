{
 "cells": [
  {
   "cell_type": "code",
   "execution_count": 2,
   "metadata": {},
   "outputs": [],
   "source": [
    "import meshio as mio\n",
    "import numpy as np\n",
    "import matplotlib.pyplot as pl"
   ]
  },
  {
   "cell_type": "code",
   "execution_count": 3,
   "metadata": {},
   "outputs": [],
   "source": [
    "m = mio.read(\"../results/popper5-5/step_44.vtu\")\n",
    "\n",
    "v = m.points\n",
    "t = m.cells[0].data\n",
    "d = m.point_data[\"solution\"]"
   ]
  },
  {
   "cell_type": "code",
   "execution_count": 6,
   "metadata": {},
   "outputs": [],
   "source": [
    "v_uni, indices, inverse = np.unique(np.round(v*100), return_index=True, return_inverse=True, axis=0)\n",
    "\n",
    "t_uni = np.array([inverse[t[:, 0]], inverse[t[:, 2]], inverse[t[:, 1]], inverse[t[:, 3]]]).transpose()\n",
    "d_uni = d[indices, :]\n",
    "v_uni = v[indices, :]"
   ]
  },
  {
   "cell_type": "code",
   "execution_count": 8,
   "metadata": {},
   "outputs": [],
   "source": [
    "cells = [(\"tetra\", t_uni)]\n",
    "\n",
    "mesh = mio.Mesh(v_uni, cells)\n",
    "mesh.write(\"rest.vtk\") # file_format=\"vtk\"),  # optional if first argument is a path; inferred from extension\n",
    "mesh.write(\"rest.msh\", file_format=\"gmsh\")\n",
    "\n",
    "\n",
    "mesh = mio.Mesh(v_uni+d_uni, cells)\n",
    "mesh.write(\"deformed.vtk\") # file_format=\"vtk\"),  # optional if first argument is a path; inferred from extension"
   ]
  },
  {
   "cell_type": "code",
   "execution_count": 29,
   "metadata": {},
   "outputs": [
    {
     "data": {
      "text/plain": [
       "[<meshio CellBlock, type: tetra, num cells: 1667, tags: []>,\n",
       " <meshio CellBlock, type: triangle, num cells: 320, tags: []>]"
      ]
     },
     "execution_count": 29,
     "metadata": {},
     "output_type": "execute_result"
    }
   ],
   "source": []
  },
  {
   "cell_type": "code",
   "execution_count": null,
   "metadata": {},
   "outputs": [],
   "source": []
  }
 ],
 "metadata": {
  "kernelspec": {
   "display_name": "base2",
   "language": "python",
   "name": "python3"
  },
  "language_info": {
   "codemirror_mode": {
    "name": "ipython",
    "version": 3
   },
   "file_extension": ".py",
   "mimetype": "text/x-python",
   "name": "python",
   "nbconvert_exporter": "python",
   "pygments_lexer": "ipython3",
   "version": "3.10.6 (main, Oct 24 2022, 16:07:47) [GCC 11.2.0]"
  },
  "orig_nbformat": 4,
  "vscode": {
   "interpreter": {
    "hash": "9f46129ec53c2293126ab74e7857b636d44fbd98601e6b37ac631cb273453cd0"
   }
  }
 },
 "nbformat": 4,
 "nbformat_minor": 2
}
