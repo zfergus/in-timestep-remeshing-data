{
 "cells": [
  {
   "cell_type": "code",
   "execution_count": 58,
   "metadata": {},
   "outputs": [],
   "source": [
    "import numpy\n",
    "import sympy\n",
    "from sympy import *\n",
    "from sympy.matrices import *"
   ]
  },
  {
   "cell_type": "code",
   "execution_count": 12,
   "metadata": {},
   "outputs": [],
   "source": [
    "def triangle_area_2D(a, b, c):\n",
    "    return ((b[0] - a[0]) * (c[1] - a[1]) - (c[0] - a[0]) * (b[1] - a[1])) / 2"
   ]
  },
  {
   "cell_type": "code",
   "execution_count": 13,
   "metadata": {},
   "outputs": [],
   "source": [
    "def tetrahedron_volume(a, b, c, d):\n",
    "    return numpy.cross(b - a, c - a).dot(d - a) / 6"
   ]
  },
  {
   "cell_type": "code",
   "execution_count": 80,
   "metadata": {},
   "outputs": [],
   "source": [
    "def cxxcode(expr, assign_to):\n",
    "    CSE_results = cse(expr, numbered_symbols(\"t\"), optimizations='basic')\n",
    "    lines = []\n",
    "    for helper in CSE_results[0]:\n",
    "        if isinstance(helper[1], MatrixSymbol):\n",
    "            lines.append(f'const auto {helper[0]}[{helper[1].size}];')\n",
    "            lines.append(sympy.printing.cxxcode(helper[1], helper[0]))\n",
    "        else:\n",
    "            lines.append(\n",
    "                f'const auto {sympy.printing.cxxcode(helper[0])} = {sympy.printing.cxxcode(helper[1])};')\n",
    "\n",
    "    for i, result in enumerate(CSE_results[1]):\n",
    "        lines.append(sympy.printing.cxxcode(result, assign_to))\n",
    "\n",
    "    return '\\n'.join(lines)\n",
    "\n",
    "# def jac_code(J, var_name):\n",
    "#     J = sympy.Matrix(J.flatten(order=\"F\"))\n",
    "#     params = \",\".join(\n",
    "#         [f\"double {ccode(var)}\" for var in x] \n",
    "#         + [f\"double {ccode(var)}\" for var in ut] \n",
    "#         + [f\"double {ccode(var)}\" for var in u] \n",
    "#         + [f\"double J[{prod(J.shape)}]\"])\n",
    "#     return(f\"\"\"\n",
    "# void jac_F_wrt_{var_name}({params}){{\n",
    "# {cxx_print(J)}\n",
    "# }}\"\"\")"
   ]
  },
  {
   "cell_type": "code",
   "execution_count": 90,
   "metadata": {},
   "outputs": [],
   "source": [
    "def gradient_code(expr_name, expr, x):\n",
    "    grad = [expr.diff(x_i) for x_i in x]\n",
    "    params = [f\"double {ccode(var)}\" for var in x] + [f\"double g[{len(grad)}]\"]\n",
    "    return (f\"\"\"\n",
    "void {expr_name}_gradient({\",\".join(params)}){{\n",
    "{cxxcode(sympy.Matrix(grad), \"g\")}\n",
    "}}\"\"\")\n",
    "\n",
    "def hessian_code(expr_name, expr, x):\n",
    "    grad = [expr.diff(x_i) for x_i in x]\n",
    "    hess = sympy.Matrix([[grad_i.diff(x_j) for x_j in x] for grad_i in grad])\n",
    "    # display(hess)\n",
    "    params = [f\"double {ccode(var)}\" for var in x] + [f\"double H[{prod(hess.shape)}]\"]\n",
    "    return (f\"\"\"\n",
    "void {expr_name}_hessian({\",\".join(params)}){{\n",
    "{cxxcode(hess, \"H\")}\n",
    "}}\"\"\")"
   ]
  },
  {
   "cell_type": "code",
   "execution_count": 91,
   "metadata": {},
   "outputs": [],
   "source": [
    "a = numpy.array(sympy.symbols(\"ax ay az\"))\n",
    "b = numpy.array(sympy.symbols(\"bx by bz\"))\n",
    "c = numpy.array(sympy.symbols(\"cx cy cz\"))\n",
    "d = numpy.array(sympy.symbols(\"dx dy dz\"))"
   ]
  },
  {
   "cell_type": "code",
   "execution_count": 95,
   "metadata": {},
   "outputs": [],
   "source": [
    "f = open(\"element_volume_derivatives.cpp\", \"w\")"
   ]
  },
  {
   "cell_type": "code",
   "execution_count": 96,
   "metadata": {},
   "outputs": [
    {
     "data": {
      "text/plain": [
       "571"
      ]
     },
     "execution_count": 96,
     "metadata": {},
     "output_type": "execute_result"
    }
   ],
   "source": [
    "x = numpy.stack([a[:2], b[:2], c[:2]]).flatten()\n",
    "f.write(gradient_code(\"triangle_area_2D\", triangle_area_2D(a[:2], b[:2], c[:2]), x))\n",
    "f.write(hessian_code(\"triangle_area_2D\", triangle_area_2D(a[:2], b[:2], c[:2]), x))"
   ]
  },
  {
   "cell_type": "code",
   "execution_count": 97,
   "metadata": {},
   "outputs": [
    {
     "data": {
      "text/plain": [
       "3649"
      ]
     },
     "execution_count": 97,
     "metadata": {},
     "output_type": "execute_result"
    }
   ],
   "source": [
    "x = numpy.stack([a, b, c, d]).flatten()\n",
    "f.write(gradient_code(\"tetrahedron_volume\", tetrahedron_volume(a, b, c, d), x))\n",
    "f.write(hessian_code(\"tetrahedron_volume\", tetrahedron_volume(a, b, c, d), x))"
   ]
  },
  {
   "cell_type": "code",
   "execution_count": 98,
   "metadata": {},
   "outputs": [],
   "source": [
    "f.close()"
   ]
  },
  {
   "cell_type": "code",
   "execution_count": null,
   "metadata": {},
   "outputs": [],
   "source": []
  }
 ],
 "metadata": {
  "kernelspec": {
   "display_name": "Python 3",
   "language": "python",
   "name": "python3"
  },
  "language_info": {
   "codemirror_mode": {
    "name": "ipython",
    "version": 3
   },
   "file_extension": ".py",
   "mimetype": "text/x-python",
   "name": "python",
   "nbconvert_exporter": "python",
   "pygments_lexer": "ipython3",
   "version": "3.10.6"
  },
  "orig_nbformat": 4,
  "vscode": {
   "interpreter": {
    "hash": "e7370f93d1d0cde622a1f8e1c04877d8463912d04d973331ad4851f04de6915a"
   }
  }
 },
 "nbformat": 4,
 "nbformat_minor": 2
}
