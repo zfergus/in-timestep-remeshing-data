{
 "cells": [
  {
   "cell_type": "code",
   "execution_count": 1,
   "metadata": {},
   "outputs": [],
   "source": [
    "import numpy as np"
   ]
  },
  {
   "cell_type": "code",
   "execution_count": 2,
   "metadata": {},
   "outputs": [],
   "source": [
    "def compute_AMIPS_energy(x_bar, x):\n",
    "    Dm = x_bar[:, 1:] - x_bar[:, [0]]\n",
    "    Ds = x[:, 1:] - x[:, [0]]\n",
    "\n",
    "    # F @ Dm = Ds\n",
    "    F = Ds @ np.linalg.inv(Dm)\n",
    "\n",
    "    J = np.linalg.det(F)\n",
    "\n",
    "    return (F.T @ F).trace() / J"
   ]
  },
  {
   "cell_type": "code",
   "execution_count": 3,
   "metadata": {},
   "outputs": [],
   "source": [
    "def compute_NeoHookean_energy(x_bar, x, mu=1, lambda_=1):\n",
    "    Dm = x_bar[:, 1:] - x_bar[:, [0]]\n",
    "    Ds = x[:, 1:] - x[:, [0]]\n",
    "\n",
    "    F = Ds @ np.linalg.inv(Dm)\n",
    "    J = np.linalg.det(F)\n",
    "\n",
    "    return mu/2 * ((F.T @ F).trace() - 2) - mu * np.log(J) + lambda_/2 * np.log(J)**2"
   ]
  },
  {
   "cell_type": "code",
   "execution_count": 4,
   "metadata": {},
   "outputs": [],
   "source": [
    "def triangle_area(x):\n",
    "    return 0.5 * np.linalg.det(np.hstack([x.T, np.ones((3, 1))]))"
   ]
  },
  {
   "cell_type": "code",
   "execution_count": 5,
   "metadata": {},
   "outputs": [],
   "source": [
    "def edge_length(e0, e1):\n",
    "    return np.linalg.norm(e1 - e0)\n",
    "\n",
    "def harmonic_mean(x):\n",
    "    return len(x) / sum(1 / xi for xi in x)\n",
    "\n",
    "def root_mean_squared(x):\n",
    "    return np.sqrt(sum(xi**2 for xi in x) / len(x))\n",
    "\n",
    "def compute_Wicke_measure(x):\n",
    "    edge_lengths = [\n",
    "        edge_length(x[:, 0], x[:, 1]),\n",
    "        edge_length(x[:, 1], x[:, 2]),\n",
    "        edge_length(x[:, 2], x[:, 0]),\n",
    "    ]\n",
    "    area = triangle_area(x)\n",
    "    return 6 * np.sqrt(2) * area * (harmonic_mean(edge_lengths) / root_mean_squared(edge_lengths)**4)"
   ]
  },
  {
   "cell_type": "code",
   "execution_count": 6,
   "metadata": {},
   "outputs": [],
   "source": [
    "S = np.diag([1, 1e-3])\n",
    "# np.random.seed(1)\n",
    "# S = 0.1 * np.random.random((2, 2))\n",
    "# np.linalg.det(S)"
   ]
  },
  {
   "cell_type": "code",
   "execution_count": 7,
   "metadata": {},
   "outputs": [],
   "source": [
    "x_bar = np.array([\n",
    "    [0.0, 0.0],\n",
    "    [1.0, 0.0],\n",
    "    [0.0, 1.0],\n",
    "]).T\n",
    "x = S @ x_bar\n",
    "\n",
    "# print(triangle_area(x_bar))\n",
    "initial_AMIPS_energy = triangle_area(x_bar) * compute_AMIPS_energy(x_bar, x)\n",
    "initial_neohookean_energy = triangle_area(x_bar) * compute_NeoHookean_energy(x_bar, x)\n",
    "initial_wicke_measure = compute_Wicke_measure(x)"
   ]
  },
  {
   "cell_type": "code",
   "execution_count": 8,
   "metadata": {},
   "outputs": [
    {
     "name": "stdout",
     "output_type": "stream",
     "text": [
      "0.0\n",
      "0.0\n",
      "0.00529077532980842\n"
     ]
    }
   ],
   "source": [
    "x_bar2 = np.array([\n",
    "    [0.0, 0.0],\n",
    "    [1.0, 0.0],\n",
    "    [0.5, 0.5],\n",
    "    [0.0, 1.0],\n",
    "]).T\n",
    "x2 = S @ x_bar2\n",
    "F = np.array([\n",
    "    [0, 1, 2],\n",
    "    [2, 3, 0]\n",
    "])\n",
    "print(sum(triangle_area(x_bar2[:, f]) * compute_AMIPS_energy(x_bar2[:, f], x2[:, f]) for f in F) - initial_AMIPS_energy)\n",
    "print(sum(triangle_area(x_bar2[:, f]) * compute_NeoHookean_energy(x_bar2[:, f], x2[:, f]) for f in F) - initial_neohookean_energy)\n",
    "print(sum(compute_Wicke_measure(x2[:, f]) for f in F) - initial_wicke_measure)"
   ]
  },
  {
   "cell_type": "code",
   "execution_count": 9,
   "metadata": {},
   "outputs": [
    {
     "name": "stdout",
     "output_type": "stream",
     "text": [
      "0.0\n",
      "0.0\n",
      "0.005290767237141684\n"
     ]
    }
   ],
   "source": [
    "x_bar2 = np.array([\n",
    "    [0.0, 0.0],\n",
    "    [0.5, 0.0],\n",
    "    [1.0, 0.0],\n",
    "    [0.0, 1.0],\n",
    "]).T\n",
    "x2 = S @ x_bar2\n",
    "F = np.array([\n",
    "    [0, 1, 3],\n",
    "    [1, 2, 3]\n",
    "])\n",
    "print(sum(triangle_area(x_bar2[:, f]) * compute_AMIPS_energy(x_bar2[:, f], x2[:, f]) for f in F) - initial_AMIPS_energy)\n",
    "print(sum(triangle_area(x_bar2[:, f]) * compute_NeoHookean_energy(x_bar2[:, f], x2[:, f]) for f in F) - initial_neohookean_energy)\n",
    "print(sum(compute_Wicke_measure(x2[:, f]) for f in F) - initial_wicke_measure)"
   ]
  },
  {
   "cell_type": "code",
   "execution_count": 10,
   "metadata": {},
   "outputs": [
    {
     "name": "stdout",
     "output_type": "stream",
     "text": [
      "0.0\n",
      "0.0\n",
      "-1.427601275505179e-05\n"
     ]
    }
   ],
   "source": [
    "x_bar2 = np.array([\n",
    "    [0.0, 0.0],\n",
    "    [1.0, 0.0],\n",
    "    [0.0, 1.0],\n",
    "    [0.0, 0.5],\n",
    "]).T\n",
    "x2 = S @ x_bar2\n",
    "F = np.array([\n",
    "    [0, 1, 3],\n",
    "    [1, 2, 3]\n",
    "])\n",
    "print(sum(triangle_area(x_bar2[:, f]) * compute_AMIPS_energy(x_bar2[:, f], x2[:, f]) for f in F) - initial_AMIPS_energy)\n",
    "print(sum(triangle_area(x_bar2[:, f]) * compute_NeoHookean_energy(x_bar2[:, f], x2[:, f]) for f in F) - initial_neohookean_energy)\n",
    "print(sum(compute_Wicke_measure(x2[:, f]) for f in F) - initial_wicke_measure)"
   ]
  },
  {
   "cell_type": "code",
   "execution_count": 11,
   "metadata": {},
   "outputs": [
    {
     "name": "stdout",
     "output_type": "stream",
     "text": [
      "0.0\n",
      "0.0\n",
      "0.006478207265264452\n"
     ]
    }
   ],
   "source": [
    "x_bar2 = np.array([\n",
    "    [0.0, 0.0],\n",
    "    [1.0, 0.0],\n",
    "    [0.0, 1.0],\n",
    "    [1/3, 1/3],\n",
    "]).T\n",
    "x2 = S @ x_bar2\n",
    "F = np.array([\n",
    "    [0, 1, 3],\n",
    "    [1, 2, 3],\n",
    "    [0, 3, 2]\n",
    "])\n",
    "print(sum(triangle_area(x_bar2[:, f]) * compute_AMIPS_energy(x_bar2[:, f], x2[:, f]) for f in F) - initial_AMIPS_energy)\n",
    "print(sum(triangle_area(x_bar2[:, f]) * compute_NeoHookean_energy(x_bar2[:, f], x2[:, f]) for f in F) - initial_neohookean_energy)\n",
    "print(sum(compute_Wicke_measure(x2[:, f]) for f in F) - initial_wicke_measure)"
   ]
  },
  {
   "cell_type": "code",
   "execution_count": 12,
   "metadata": {},
   "outputs": [],
   "source": [
    "def equilateral_triangle():\n",
    "    T = np.array([\n",
    "        [0.0, 0.0],\n",
    "        [1.0, 0.0],\n",
    "        [0.5, np.sqrt(3) / 2],\n",
    "    ])\n",
    "    return (T - T.mean(axis=0))\n",
    "\n",
    "def degenerate_triangle():\n",
    "    T = np.array([\n",
    "        [0.0, 0.0],\n",
    "        [1.0, 0.0],\n",
    "        [0.5, 0.0],\n",
    "    ])\n",
    "    return (T - T.mean(axis=0))"
   ]
  },
  {
   "cell_type": "code",
   "execution_count": 13,
   "metadata": {},
   "outputs": [
    {
     "data": {
      "text/plain": [
       "array([[-0.5,  0. ],\n",
       "       [ 0.5,  0. ],\n",
       "       [ 0. ,  0. ]])"
      ]
     },
     "execution_count": 13,
     "metadata": {},
     "output_type": "execute_result"
    }
   ],
   "source": [
    "ET = equilateral_triangle()\n",
    "DT = degenerate_triangle()\n",
    "DT"
   ]
  },
  {
   "cell_type": "code",
   "execution_count": 14,
   "metadata": {},
   "outputs": [],
   "source": [
    "def compute_Wicke_measure_2D(x):\n",
    "    edge_lengths = [\n",
    "        edge_length(x[:, 0], x[:, 1]),\n",
    "        edge_length(x[:, 1], x[:, 2]),\n",
    "        edge_length(x[:, 2], x[:, 0]),\n",
    "    ]\n",
    "    area = triangle_area(x)\n",
    "    return (4 / np.sqrt(3)) * area * (harmonic_mean(edge_lengths) / root_mean_squared(edge_lengths)**4)"
   ]
  },
  {
   "cell_type": "code",
   "execution_count": 15,
   "metadata": {},
   "outputs": [
    {
     "name": "stdout",
     "output_type": "stream",
     "text": [
      "1.0000000000000007\n",
      "0.0\n"
     ]
    }
   ],
   "source": [
    "print(compute_Wicke_measure_2D(ET.T))\n",
    "print(compute_Wicke_measure_2D(DT.T))"
   ]
  },
  {
   "cell_type": "code",
   "execution_count": 16,
   "metadata": {},
   "outputs": [
    {
     "data": {
      "text/latex": [
       "$\\displaystyle 1$"
      ],
      "text/plain": [
       "1"
      ]
     },
     "execution_count": 16,
     "metadata": {},
     "output_type": "execute_result"
    }
   ],
   "source": [
    "import sympy\n",
    "a = sympy.Symbol(\"a\", positive=True)\n",
    "harmonic_mean([a, a, a])\n",
    "# root_mean_squared([a, a, a])\n",
    "tmp = harmonic_mean([a, a, a]) / sympy.sqrt(sum(xi**2 for xi in [a, a, a]) / 3)**3\n",
    "\n",
    "s = 3 * a / 2\n",
    "area = sympy.sqrt(s * (s - a)**3)\n",
    "4 / sympy.sqrt(3) * area * tmp"
   ]
  },
  {
   "cell_type": "code",
   "execution_count": 17,
   "metadata": {},
   "outputs": [
    {
     "data": {
      "text/latex": [
       "$\\displaystyle 0$"
      ],
      "text/plain": [
       "0"
      ]
     },
     "execution_count": 17,
     "metadata": {},
     "output_type": "execute_result"
    }
   ],
   "source": [
    "import sympy\n",
    "a = sympy.Symbol(\"a\", positive=True)\n",
    "alpha = sympy.Symbol(\"alpha\", positive=True)\n",
    "edge_lengths = [a, (1-alpha)*a, alpha*a]\n",
    "hm = harmonic_mean(edge_lengths)\n",
    "tmp = hm / sympy.sqrt(sum(xi**2 for xi in edge_lengths) / 3)**3\n",
    "\n",
    "s = sum(edge_lengths) / 2\n",
    "area = sympy.sqrt(s * sympy.prod((s - l) for l in edge_lengths))\n",
    "# 4 / sympy.sqrt(3) * area * tmp\n",
    "sympy.simplify(area * tmp)"
   ]
  },
  {
   "cell_type": "markdown",
   "metadata": {},
   "source": [
    "$$\n",
    "\\frac{4}{\\sqrt{3}} A \\frac{\\ell_\\text{harm}}{\\ell_\\text{rms}^3}\n",
    "$$"
   ]
  },
  {
   "cell_type": "code",
   "execution_count": 33,
   "metadata": {},
   "outputs": [
    {
     "data": {
      "text/plain": [
       "(array([[1.00000000e+00, 4.43194413e-17, 2.47262501e-17],\n",
       "        [4.43194413e-17, 1.00000000e+00, 4.57787184e-18],\n",
       "        [2.47262501e-17, 4.57787184e-18, 1.00000000e+00]]),\n",
       " -0.9999999999999998)"
      ]
     },
     "execution_count": 33,
     "metadata": {},
     "output_type": "execute_result"
    }
   ],
   "source": [
    "Q, R = np.linalg.qr(100 * np.random.random((3, 3)))\n",
    "Q = Q @ np.diag(np.sign(np.diag(R)))\n",
    "Q.T @ Q, np.linalg.det(Q)"
   ]
  },
  {
   "cell_type": "code",
   "execution_count": null,
   "metadata": {},
   "outputs": [],
   "source": []
  }
 ],
 "metadata": {
  "kernelspec": {
   "display_name": "Python 3.10.6 64-bit",
   "language": "python",
   "name": "python3"
  },
  "language_info": {
   "codemirror_mode": {
    "name": "ipython",
    "version": 3
   },
   "file_extension": ".py",
   "mimetype": "text/x-python",
   "name": "python",
   "nbconvert_exporter": "python",
   "pygments_lexer": "ipython3",
   "version": "3.10.6"
  },
  "orig_nbformat": 4,
  "vscode": {
   "interpreter": {
    "hash": "e7370f93d1d0cde622a1f8e1c04877d8463912d04d973331ad4851f04de6915a"
   }
  }
 },
 "nbformat": 4,
 "nbformat_minor": 2
}
