{
 "cells": [
  {
   "cell_type": "code",
   "execution_count": 11,
   "metadata": {},
   "outputs": [],
   "source": [
    "from tqdm.notebook import tqdm\n",
    "import igl\n",
    "import meshio\n",
    "import numpy as np\n",
    "import os\n",
    "import pandas as pd\n",
    "import pathlib\n",
    "import subprocess\n",
    "import json"
   ]
  },
  {
   "cell_type": "code",
   "execution_count": 12,
   "metadata": {},
   "outputs": [],
   "source": [
    "# tols = 10**np.arange(-2, 4, dtype=float)[::-1]\n",
    "\n",
    "# with open(\"../scripts/cantilever/cantilever.json\", \"r\") as f:\n",
    "#     nref = json.load(f)[\"geometry\"][0][\"n_refs\"]\n",
    "    \n",
    "# for tol in tqdm(tols):\n",
    "#     exp = int(np.log10(tol))\n",
    "#     script = pathlib.Path(f\"../scripts/cantilever/convergence/tol=1e{exp}.json\").resolve()\n",
    "#     subprocess.run([\n",
    "#         \"/Users/zachary/Development/grad-research/polyfem/polyfem/build/release/PolyFEM_bin\",\n",
    "#         \"-j\", str(script),\n",
    "#         \"-o\", f\"/Users/zachary/Desktop/cantilever-convergence/nref={nref}/tol=1e{exp}\"\n",
    "#     ], stdout=open(os.devnull, \"wb\"), stderr=subprocess.STDOUT)"
   ]
  },
  {
   "cell_type": "code",
   "execution_count": 13,
   "metadata": {},
   "outputs": [],
   "source": [
    "results_root = pathlib.Path(\"/Users/zachary/Desktop/cantilever-convergence/\")"
   ]
  },
  {
   "cell_type": "code",
   "execution_count": 14,
   "metadata": {},
   "outputs": [],
   "source": [
    "def foo(mesh_path, results, tip=[48, 60, 0]):\n",
    "    if not mesh_path.exists():\n",
    "        return\n",
    "    mesh = meshio.read(mesh_path)\n",
    "    pi = np.argwhere(np.linalg.norm(mesh.points - tip, axis=1) < 1e-12)[0]\n",
    "    # results[\"Tip y-displacement (in mm)\"] = float(mesh.point_data[\"solution\"][pi, 1])\n",
    "    results[\"Tip displacement (in mm)\"] = np.linalg.norm(mesh.point_data[\"solution\"][pi])\n",
    "    V, _, _, _ = igl.remove_duplicate_vertices(mesh.points.astype(float), mesh.cells[0].data.astype(int), 1e-12)\n",
    "    results[\"Number of degrees of freedom\"] = V.shape[0] * 2"
   ]
  },
  {
   "cell_type": "code",
   "execution_count": 15,
   "metadata": {},
   "outputs": [
    {
     "name": "stdout",
     "output_type": "stream",
     "text": [
      "                  Tip displacement (in mm) Number of degrees of freedom\n",
      "Elements per edge                                                      \n",
      "1                                 5.563592                            8\n",
      "2                                10.979554                           18\n",
      "4                                16.286991                           50\n",
      "8                                19.014168                          162\n",
      "16                               19.988554                          578\n",
      "32                               20.304425                         2178\n",
      "64                               20.407551                         8450\n",
      "128                               20.44256                        33282\n",
      "256                              20.455023                       132098\n"
     ]
    }
   ],
   "source": [
    "n_edges = (2**np.arange(9)).tolist()\n",
    "columns=[\"Tip displacement (in mm)\", \"Number of degrees of freedom\"]\n",
    "index_name = \"Elements per edge\"\n",
    "\n",
    "Q1_results = pd.DataFrame(index=n_edges, columns=columns)\n",
    "Q1_results.index.name = index_name\n",
    "\n",
    "for n in n_edges:\n",
    "    foo(results_root / \"Q1\" / f\"edges={n}\" / \"step_10.vtu\", Q1_results.loc[n])\n",
    "\n",
    "print(Q1_results)"
   ]
  },
  {
   "cell_type": "code",
   "execution_count": 16,
   "metadata": {},
   "outputs": [
    {
     "name": "stdout",
     "output_type": "stream",
     "text": [
      "                  Tip displacement (in mm) Number of degrees of freedom\n",
      "Elements per edge                                                      \n",
      "1                                16.756689                           16\n",
      "2                                19.661456                           36\n",
      "4                                20.211243                          100\n",
      "8                                20.369887                          324\n",
      "16                               20.427846                         1156\n",
      "32                               20.448852                         4356\n",
      "64                               20.457046                        16900\n",
      "128                              20.460368                        66564\n",
      "256                               20.46175                       264196\n"
     ]
    }
   ],
   "source": [
    "Q2_results = pd.DataFrame(index=n_edges, columns=columns)\n",
    "Q2_results.index.name = index_name\n",
    "\n",
    "for n in n_edges:\n",
    "    foo(results_root / \"Q2\" / f\"edges={n}\" / \"step_10.vtu\", Q2_results.loc[n])\n",
    "    Q2_results.loc[n][\"Number of degrees of freedom\"] = Q1_results.loc[n][\"Number of degrees of freedom\"] + (2 * (n+1)**2)\n",
    "\n",
    "print(Q2_results)"
   ]
  },
  {
   "cell_type": "code",
   "execution_count": 17,
   "metadata": {},
   "outputs": [
    {
     "name": "stdout",
     "output_type": "stream",
     "text": [
      "[                Tip displacement (in mm) Number of degrees of freedom\n",
      "Split tolerance                                                      \n",
      "1000.00                         15.52655                           28\n",
      "100.00                         15.190715                           62\n",
      "10.00                          16.808799                          302\n",
      "1.00                           18.850902                         1288\n",
      "0.10                           17.285763                         5648\n",
      "0.01                           15.772765                        14830,                 Tip displacement (in mm) Number of degrees of freedom\n",
      "Split tolerance                                                      \n",
      "1000.00                        17.486865                           56\n",
      "100.00                         18.269335                           84\n",
      "10.00                          18.709279                          198\n",
      "1.00                           19.355469                          888\n",
      "0.10                           19.402809                         2956\n",
      "0.01                           19.275849                         9390,                 Tip displacement (in mm) Number of degrees of freedom\n",
      "Split tolerance                                                      \n",
      "1000.00                        18.824075                          162\n",
      "100.00                         19.223309                          176\n",
      "10.00                          19.604631                          274\n",
      "1.00                           19.823755                          592\n",
      "0.10                           20.026399                         2210\n",
      "0.01                           19.999367                         7970,                 Tip displacement (in mm) Number of degrees of freedom\n",
      "Split tolerance                                                      \n",
      "1000.00                        15.633644                           28\n",
      "100.00                          17.90802                           58\n",
      "10.00                          18.872754                          198\n",
      "1.00                           19.942987                          896\n",
      "0.10                           20.092596                         3702\n",
      "0.01                           20.062603                        11858]\n"
     ]
    }
   ],
   "source": [
    "tols = 10**np.arange(-2, 4, dtype=float)[::-1]\n",
    "results = pd.DataFrame(index=tols, columns=columns)\n",
    "results.index.name = \"Split tolerance\"\n",
    "\n",
    "our_results = []\n",
    "for nref in range(1, 4):\n",
    "    tmp = results.copy()\n",
    "    for tol in tols:\n",
    "        foo(results_root / f\"nref={nref}\" / f\"tol=1e{int(np.log10(tol))}\" / \"step_30.vtu\", tmp.loc[tol])\n",
    "    our_results.append(tmp.copy())\n",
    "    \n",
    "tmp = results.copy()\n",
    "for tol in tols:\n",
    "    foo(results_root / \"with-swap\" / f\"tol=1e{int(np.log10(tol))}\" / \"step_30.vtu\", tmp.loc[tol])\n",
    "our_results.append(tmp.copy())\n",
    "\n",
    "print(our_results)"
   ]
  },
  {
   "cell_type": "code",
   "execution_count": 19,
   "metadata": {},
   "outputs": [
    {
     "data": {
      "application/vnd.plotly.v1+json": {
       "config": {
        "plotlyServerURL": "https://plot.ly"
       },
       "data": [
        {
         "line": {
          "color": "#0072BD",
          "width": 3
         },
         "marker": {
          "size": 9
         },
         "mode": "lines+markers+text",
         "name": "Uniform refinement",
         "type": "scatter",
         "x": [
          18,
          50,
          162,
          578,
          2178,
          8450,
          33282
         ],
         "y": [
          10.979554050169272,
          16.286991041214762,
          19.014168040096084,
          19.98855379582417,
          20.304424875633803,
          20.407550810768676,
          20.44255975979696
         ]
        },
        {
         "line": {
          "color": "#D95319",
          "width": 3
         },
         "marker": {
          "size": 9
         },
         "mode": "lines+markers+text",
         "name": "Ours (1)",
         "type": "scatter",
         "x": [
          28,
          62,
          302,
          1288,
          5648,
          14830
         ],
         "y": [
          15.526550083558579,
          15.190714839535625,
          16.80879935886574,
          18.85090229913399,
          17.285762596251388,
          15.772765130129066
         ]
        },
        {
         "line": {
          "color": "#EDB120",
          "width": 3
         },
         "marker": {
          "size": 9
         },
         "mode": "lines+markers+text",
         "name": "Ours (2)",
         "type": "scatter",
         "x": [
          56,
          84,
          198,
          888,
          2956,
          9390
         ],
         "y": [
          17.48686467886956,
          18.269334708390605,
          18.709278960106055,
          19.355469053684345,
          19.4028089542229,
          19.275848935462857
         ]
        },
        {
         "line": {
          "color": "#7E2F8E",
          "width": 3
         },
         "marker": {
          "size": 9
         },
         "mode": "lines+markers+text",
         "name": "Ours (3)",
         "type": "scatter",
         "x": [
          162,
          176,
          274,
          592,
          2210,
          7970
         ],
         "y": [
          18.824074897205765,
          19.22330927335116,
          19.604631092156612,
          19.82375533694175,
          20.026398659997344,
          19.99936666311367
         ]
        },
        {
         "line": {
          "color": "#77AC30",
          "width": 3
         },
         "marker": {
          "size": 9
         },
         "mode": "lines+markers+text",
         "name": "Ours (swap+smooth)",
         "type": "scatter",
         "x": [
          28,
          58,
          198,
          896,
          3702,
          11858
         ],
         "y": [
          15.633643783353074,
          17.908019985387885,
          18.872753925542707,
          19.94298719154472,
          20.092595553453453,
          20.062603317836185
         ]
        }
       ],
       "layout": {
        "annotations": [
         {
          "align": "center",
          "arrowcolor": "#77AC30",
          "arrowhead": 3,
          "arrowwidth": 2,
          "ay": 40,
          "font": {
           "color": "#77AC30",
           "family": "Linux Biolinum O",
           "size": 20.625
          },
          "showarrow": false,
          "text": "$\\delta_s = 1~\\text{μJ}$",
          "x": 1.4471580313422192,
          "xshift": -30,
          "y": 15.633643783353074,
          "yshift": 20
         },
         {
          "align": "center",
          "arrowcolor": "#77AC30",
          "arrowhead": 3,
          "arrowwidth": 2,
          "ay": 40,
          "font": {
           "color": "#77AC30",
           "family": "Linux Biolinum O",
           "size": 20.625
          },
          "showarrow": false,
          "text": "$0.1~\\text{μJ}$",
          "x": 1.7634279935629373,
          "xshift": 0,
          "y": 17.908019985387885,
          "yshift": 20
         },
         {
          "align": "center",
          "arrowcolor": "#77AC30",
          "arrowhead": 3,
          "arrowwidth": 2,
          "ay": 40,
          "font": {
           "color": "#77AC30",
           "family": "Linux Biolinum O",
           "size": 20.625
          },
          "showarrow": false,
          "text": "$10~\\text{nJ}$",
          "x": 2.296665190261531,
          "xshift": 0,
          "y": 18.872753925542707,
          "yshift": -20
         },
         {
          "align": "center",
          "arrowcolor": "#77AC30",
          "arrowhead": 3,
          "arrowwidth": 2,
          "ay": 40,
          "font": {
           "color": "#77AC30",
           "family": "Linux Biolinum O",
           "size": 20.625
          },
          "showarrow": false,
          "text": "$1~\\text{nJ}$",
          "x": 2.9523080096621253,
          "xshift": 0,
          "y": 19.94298719154472,
          "yshift": -20
         },
         {
          "align": "center",
          "arrowcolor": "#77AC30",
          "arrowhead": 3,
          "arrowwidth": 2,
          "ay": 40,
          "font": {
           "color": "#77AC30",
           "family": "Linux Biolinum O",
           "size": 20.625
          },
          "showarrow": false,
          "text": "$0.1~\\text{nJ}$",
          "x": 3.5684364144168854,
          "xshift": 0,
          "y": 20.092595553453453,
          "yshift": -20
         },
         {
          "align": "center",
          "arrowcolor": "#77AC30",
          "arrowhead": 3,
          "arrowwidth": 2,
          "ay": 40,
          "font": {
           "color": "#77AC30",
           "family": "Linux Biolinum O",
           "size": 20.625
          },
          "showarrow": false,
          "text": "$10~\\text{pJ}$",
          "x": 4.074011446008945,
          "xshift": 0,
          "y": 20.062603317836185,
          "yshift": -20
         }
        ],
        "font": {
         "family": "Linux Biolinum O",
         "size": 25.78125
        },
        "height": 506.25,
        "legend": {
         "bgcolor": "rgba(0,0,0,0)",
         "font": {
          "family": "Linux Biolinum O",
          "size": 25.78125
         },
         "orientation": "h",
         "x": 0.5,
         "xanchor": "center",
         "y": 1,
         "yanchor": "bottom"
        },
        "margin": {
         "b": 18.75,
         "l": 18.75,
         "r": 18.75,
         "t": 112.5
        },
        "template": {
         "data": {
          "bar": [
           {
            "error_x": {
             "color": "rgb(36,36,36)"
            },
            "error_y": {
             "color": "rgb(36,36,36)"
            },
            "marker": {
             "line": {
              "color": "white",
              "width": 0.5
             },
             "pattern": {
              "fillmode": "overlay",
              "size": 10,
              "solidity": 0.2
             }
            },
            "type": "bar"
           }
          ],
          "barpolar": [
           {
            "marker": {
             "line": {
              "color": "white",
              "width": 0.5
             },
             "pattern": {
              "fillmode": "overlay",
              "size": 10,
              "solidity": 0.2
             }
            },
            "type": "barpolar"
           }
          ],
          "carpet": [
           {
            "aaxis": {
             "endlinecolor": "rgb(36,36,36)",
             "gridcolor": "white",
             "linecolor": "white",
             "minorgridcolor": "white",
             "startlinecolor": "rgb(36,36,36)"
            },
            "baxis": {
             "endlinecolor": "rgb(36,36,36)",
             "gridcolor": "white",
             "linecolor": "white",
             "minorgridcolor": "white",
             "startlinecolor": "rgb(36,36,36)"
            },
            "type": "carpet"
           }
          ],
          "choropleth": [
           {
            "colorbar": {
             "outlinewidth": 1,
             "tickcolor": "rgb(36,36,36)",
             "ticks": "outside"
            },
            "type": "choropleth"
           }
          ],
          "contour": [
           {
            "colorbar": {
             "outlinewidth": 1,
             "tickcolor": "rgb(36,36,36)",
             "ticks": "outside"
            },
            "colorscale": [
             [
              0,
              "#440154"
             ],
             [
              0.1111111111111111,
              "#482878"
             ],
             [
              0.2222222222222222,
              "#3e4989"
             ],
             [
              0.3333333333333333,
              "#31688e"
             ],
             [
              0.4444444444444444,
              "#26828e"
             ],
             [
              0.5555555555555556,
              "#1f9e89"
             ],
             [
              0.6666666666666666,
              "#35b779"
             ],
             [
              0.7777777777777778,
              "#6ece58"
             ],
             [
              0.8888888888888888,
              "#b5de2b"
             ],
             [
              1,
              "#fde725"
             ]
            ],
            "type": "contour"
           }
          ],
          "contourcarpet": [
           {
            "colorbar": {
             "outlinewidth": 1,
             "tickcolor": "rgb(36,36,36)",
             "ticks": "outside"
            },
            "type": "contourcarpet"
           }
          ],
          "heatmap": [
           {
            "colorbar": {
             "outlinewidth": 1,
             "tickcolor": "rgb(36,36,36)",
             "ticks": "outside"
            },
            "colorscale": [
             [
              0,
              "#440154"
             ],
             [
              0.1111111111111111,
              "#482878"
             ],
             [
              0.2222222222222222,
              "#3e4989"
             ],
             [
              0.3333333333333333,
              "#31688e"
             ],
             [
              0.4444444444444444,
              "#26828e"
             ],
             [
              0.5555555555555556,
              "#1f9e89"
             ],
             [
              0.6666666666666666,
              "#35b779"
             ],
             [
              0.7777777777777778,
              "#6ece58"
             ],
             [
              0.8888888888888888,
              "#b5de2b"
             ],
             [
              1,
              "#fde725"
             ]
            ],
            "type": "heatmap"
           }
          ],
          "heatmapgl": [
           {
            "colorbar": {
             "outlinewidth": 1,
             "tickcolor": "rgb(36,36,36)",
             "ticks": "outside"
            },
            "colorscale": [
             [
              0,
              "#440154"
             ],
             [
              0.1111111111111111,
              "#482878"
             ],
             [
              0.2222222222222222,
              "#3e4989"
             ],
             [
              0.3333333333333333,
              "#31688e"
             ],
             [
              0.4444444444444444,
              "#26828e"
             ],
             [
              0.5555555555555556,
              "#1f9e89"
             ],
             [
              0.6666666666666666,
              "#35b779"
             ],
             [
              0.7777777777777778,
              "#6ece58"
             ],
             [
              0.8888888888888888,
              "#b5de2b"
             ],
             [
              1,
              "#fde725"
             ]
            ],
            "type": "heatmapgl"
           }
          ],
          "histogram": [
           {
            "marker": {
             "line": {
              "color": "white",
              "width": 0.6
             }
            },
            "type": "histogram"
           }
          ],
          "histogram2d": [
           {
            "colorbar": {
             "outlinewidth": 1,
             "tickcolor": "rgb(36,36,36)",
             "ticks": "outside"
            },
            "colorscale": [
             [
              0,
              "#440154"
             ],
             [
              0.1111111111111111,
              "#482878"
             ],
             [
              0.2222222222222222,
              "#3e4989"
             ],
             [
              0.3333333333333333,
              "#31688e"
             ],
             [
              0.4444444444444444,
              "#26828e"
             ],
             [
              0.5555555555555556,
              "#1f9e89"
             ],
             [
              0.6666666666666666,
              "#35b779"
             ],
             [
              0.7777777777777778,
              "#6ece58"
             ],
             [
              0.8888888888888888,
              "#b5de2b"
             ],
             [
              1,
              "#fde725"
             ]
            ],
            "type": "histogram2d"
           }
          ],
          "histogram2dcontour": [
           {
            "colorbar": {
             "outlinewidth": 1,
             "tickcolor": "rgb(36,36,36)",
             "ticks": "outside"
            },
            "colorscale": [
             [
              0,
              "#440154"
             ],
             [
              0.1111111111111111,
              "#482878"
             ],
             [
              0.2222222222222222,
              "#3e4989"
             ],
             [
              0.3333333333333333,
              "#31688e"
             ],
             [
              0.4444444444444444,
              "#26828e"
             ],
             [
              0.5555555555555556,
              "#1f9e89"
             ],
             [
              0.6666666666666666,
              "#35b779"
             ],
             [
              0.7777777777777778,
              "#6ece58"
             ],
             [
              0.8888888888888888,
              "#b5de2b"
             ],
             [
              1,
              "#fde725"
             ]
            ],
            "type": "histogram2dcontour"
           }
          ],
          "mesh3d": [
           {
            "colorbar": {
             "outlinewidth": 1,
             "tickcolor": "rgb(36,36,36)",
             "ticks": "outside"
            },
            "type": "mesh3d"
           }
          ],
          "parcoords": [
           {
            "line": {
             "colorbar": {
              "outlinewidth": 1,
              "tickcolor": "rgb(36,36,36)",
              "ticks": "outside"
             }
            },
            "type": "parcoords"
           }
          ],
          "pie": [
           {
            "automargin": true,
            "type": "pie"
           }
          ],
          "scatter": [
           {
            "fillpattern": {
             "fillmode": "overlay",
             "size": 10,
             "solidity": 0.2
            },
            "type": "scatter"
           }
          ],
          "scatter3d": [
           {
            "line": {
             "colorbar": {
              "outlinewidth": 1,
              "tickcolor": "rgb(36,36,36)",
              "ticks": "outside"
             }
            },
            "marker": {
             "colorbar": {
              "outlinewidth": 1,
              "tickcolor": "rgb(36,36,36)",
              "ticks": "outside"
             }
            },
            "type": "scatter3d"
           }
          ],
          "scattercarpet": [
           {
            "marker": {
             "colorbar": {
              "outlinewidth": 1,
              "tickcolor": "rgb(36,36,36)",
              "ticks": "outside"
             }
            },
            "type": "scattercarpet"
           }
          ],
          "scattergeo": [
           {
            "marker": {
             "colorbar": {
              "outlinewidth": 1,
              "tickcolor": "rgb(36,36,36)",
              "ticks": "outside"
             }
            },
            "type": "scattergeo"
           }
          ],
          "scattergl": [
           {
            "marker": {
             "colorbar": {
              "outlinewidth": 1,
              "tickcolor": "rgb(36,36,36)",
              "ticks": "outside"
             }
            },
            "type": "scattergl"
           }
          ],
          "scattermapbox": [
           {
            "marker": {
             "colorbar": {
              "outlinewidth": 1,
              "tickcolor": "rgb(36,36,36)",
              "ticks": "outside"
             }
            },
            "type": "scattermapbox"
           }
          ],
          "scatterpolar": [
           {
            "marker": {
             "colorbar": {
              "outlinewidth": 1,
              "tickcolor": "rgb(36,36,36)",
              "ticks": "outside"
             }
            },
            "type": "scatterpolar"
           }
          ],
          "scatterpolargl": [
           {
            "marker": {
             "colorbar": {
              "outlinewidth": 1,
              "tickcolor": "rgb(36,36,36)",
              "ticks": "outside"
             }
            },
            "type": "scatterpolargl"
           }
          ],
          "scatterternary": [
           {
            "marker": {
             "colorbar": {
              "outlinewidth": 1,
              "tickcolor": "rgb(36,36,36)",
              "ticks": "outside"
             }
            },
            "type": "scatterternary"
           }
          ],
          "surface": [
           {
            "colorbar": {
             "outlinewidth": 1,
             "tickcolor": "rgb(36,36,36)",
             "ticks": "outside"
            },
            "colorscale": [
             [
              0,
              "#440154"
             ],
             [
              0.1111111111111111,
              "#482878"
             ],
             [
              0.2222222222222222,
              "#3e4989"
             ],
             [
              0.3333333333333333,
              "#31688e"
             ],
             [
              0.4444444444444444,
              "#26828e"
             ],
             [
              0.5555555555555556,
              "#1f9e89"
             ],
             [
              0.6666666666666666,
              "#35b779"
             ],
             [
              0.7777777777777778,
              "#6ece58"
             ],
             [
              0.8888888888888888,
              "#b5de2b"
             ],
             [
              1,
              "#fde725"
             ]
            ],
            "type": "surface"
           }
          ],
          "table": [
           {
            "cells": {
             "fill": {
              "color": "rgb(237,237,237)"
             },
             "line": {
              "color": "white"
             }
            },
            "header": {
             "fill": {
              "color": "rgb(217,217,217)"
             },
             "line": {
              "color": "white"
             }
            },
            "type": "table"
           }
          ]
         },
         "layout": {
          "annotationdefaults": {
           "arrowhead": 0,
           "arrowwidth": 1
          },
          "autotypenumbers": "strict",
          "coloraxis": {
           "colorbar": {
            "outlinewidth": 1,
            "tickcolor": "rgb(36,36,36)",
            "ticks": "outside"
           }
          },
          "colorscale": {
           "diverging": [
            [
             0,
             "rgb(103,0,31)"
            ],
            [
             0.1,
             "rgb(178,24,43)"
            ],
            [
             0.2,
             "rgb(214,96,77)"
            ],
            [
             0.3,
             "rgb(244,165,130)"
            ],
            [
             0.4,
             "rgb(253,219,199)"
            ],
            [
             0.5,
             "rgb(247,247,247)"
            ],
            [
             0.6,
             "rgb(209,229,240)"
            ],
            [
             0.7,
             "rgb(146,197,222)"
            ],
            [
             0.8,
             "rgb(67,147,195)"
            ],
            [
             0.9,
             "rgb(33,102,172)"
            ],
            [
             1,
             "rgb(5,48,97)"
            ]
           ],
           "sequential": [
            [
             0,
             "#440154"
            ],
            [
             0.1111111111111111,
             "#482878"
            ],
            [
             0.2222222222222222,
             "#3e4989"
            ],
            [
             0.3333333333333333,
             "#31688e"
            ],
            [
             0.4444444444444444,
             "#26828e"
            ],
            [
             0.5555555555555556,
             "#1f9e89"
            ],
            [
             0.6666666666666666,
             "#35b779"
            ],
            [
             0.7777777777777778,
             "#6ece58"
            ],
            [
             0.8888888888888888,
             "#b5de2b"
            ],
            [
             1,
             "#fde725"
            ]
           ],
           "sequentialminus": [
            [
             0,
             "#440154"
            ],
            [
             0.1111111111111111,
             "#482878"
            ],
            [
             0.2222222222222222,
             "#3e4989"
            ],
            [
             0.3333333333333333,
             "#31688e"
            ],
            [
             0.4444444444444444,
             "#26828e"
            ],
            [
             0.5555555555555556,
             "#1f9e89"
            ],
            [
             0.6666666666666666,
             "#35b779"
            ],
            [
             0.7777777777777778,
             "#6ece58"
            ],
            [
             0.8888888888888888,
             "#b5de2b"
            ],
            [
             1,
             "#fde725"
            ]
           ]
          },
          "colorway": [
           "#1F77B4",
           "#FF7F0E",
           "#2CA02C",
           "#D62728",
           "#9467BD",
           "#8C564B",
           "#E377C2",
           "#7F7F7F",
           "#BCBD22",
           "#17BECF"
          ],
          "font": {
           "color": "rgb(36,36,36)"
          },
          "geo": {
           "bgcolor": "white",
           "lakecolor": "white",
           "landcolor": "white",
           "showlakes": true,
           "showland": true,
           "subunitcolor": "white"
          },
          "hoverlabel": {
           "align": "left"
          },
          "hovermode": "closest",
          "mapbox": {
           "style": "light"
          },
          "paper_bgcolor": "white",
          "plot_bgcolor": "white",
          "polar": {
           "angularaxis": {
            "gridcolor": "rgb(232,232,232)",
            "linecolor": "rgb(36,36,36)",
            "showgrid": false,
            "showline": true,
            "ticks": "outside"
           },
           "bgcolor": "white",
           "radialaxis": {
            "gridcolor": "rgb(232,232,232)",
            "linecolor": "rgb(36,36,36)",
            "showgrid": false,
            "showline": true,
            "ticks": "outside"
           }
          },
          "scene": {
           "xaxis": {
            "backgroundcolor": "white",
            "gridcolor": "rgb(232,232,232)",
            "gridwidth": 2,
            "linecolor": "rgb(36,36,36)",
            "showbackground": true,
            "showgrid": false,
            "showline": true,
            "ticks": "outside",
            "zeroline": false,
            "zerolinecolor": "rgb(36,36,36)"
           },
           "yaxis": {
            "backgroundcolor": "white",
            "gridcolor": "rgb(232,232,232)",
            "gridwidth": 2,
            "linecolor": "rgb(36,36,36)",
            "showbackground": true,
            "showgrid": false,
            "showline": true,
            "ticks": "outside",
            "zeroline": false,
            "zerolinecolor": "rgb(36,36,36)"
           },
           "zaxis": {
            "backgroundcolor": "white",
            "gridcolor": "rgb(232,232,232)",
            "gridwidth": 2,
            "linecolor": "rgb(36,36,36)",
            "showbackground": true,
            "showgrid": false,
            "showline": true,
            "ticks": "outside",
            "zeroline": false,
            "zerolinecolor": "rgb(36,36,36)"
           }
          },
          "shapedefaults": {
           "fillcolor": "black",
           "line": {
            "width": 0
           },
           "opacity": 0.3
          },
          "ternary": {
           "aaxis": {
            "gridcolor": "rgb(232,232,232)",
            "linecolor": "rgb(36,36,36)",
            "showgrid": false,
            "showline": true,
            "ticks": "outside"
           },
           "baxis": {
            "gridcolor": "rgb(232,232,232)",
            "linecolor": "rgb(36,36,36)",
            "showgrid": false,
            "showline": true,
            "ticks": "outside"
           },
           "bgcolor": "white",
           "caxis": {
            "gridcolor": "rgb(232,232,232)",
            "linecolor": "rgb(36,36,36)",
            "showgrid": false,
            "showline": true,
            "ticks": "outside"
           }
          },
          "title": {
           "x": 0.05
          },
          "xaxis": {
           "automargin": true,
           "gridcolor": "rgb(232,232,232)",
           "linecolor": "rgb(36,36,36)",
           "showgrid": false,
           "showline": true,
           "ticks": "outside",
           "title": {
            "standoff": 15
           },
           "zeroline": false,
           "zerolinecolor": "rgb(36,36,36)"
          },
          "yaxis": {
           "automargin": true,
           "gridcolor": "rgb(232,232,232)",
           "linecolor": "rgb(36,36,36)",
           "showgrid": false,
           "showline": true,
           "ticks": "outside",
           "title": {
            "standoff": 15
           },
           "zeroline": false,
           "zerolinecolor": "rgb(36,36,36)"
          }
         }
        },
        "title": {
         "x": 0.5
        },
        "width": 1031.25,
        "xaxis": {
         "ticks": "inside",
         "title": {
          "text": "Degrees of Freedom"
         },
         "type": "log"
        },
        "yaxis": {
         "ticks": "inside",
         "title": {
          "text": "Tip Displacement (mm)"
         }
        }
       }
      }
     },
     "metadata": {},
     "output_type": "display_data"
    }
   ],
   "source": [
    "import plotly.graph_objects as go\n",
    "from paper_style import *\n",
    "\n",
    "line_width = 3\n",
    "common=dict(line_width=line_width, marker_size=3*line_width, mode=\"lines+markers+text\")\n",
    "\n",
    "fig = go.Figure(data=[\n",
    "    go.Scatter(\n",
    "        x=Q1_results[1:-1][\"Number of degrees of freedom\"], y=Q1_results[1:-1][\"Tip displacement (in mm)\"],  line_color=matlab_colors[0], name=\"Uniform refinement\",\n",
    "        # line=dict(dash='dash'),\n",
    "        **common),\n",
    "    go.Scatter(x=our_results[0][\"Number of degrees of freedom\"], y=our_results[0][\"Tip displacement (in mm)\"], line_color=matlab_colors[1], name=f\"Ours (1)\", **common),\n",
    "    go.Scatter(x=our_results[1][\"Number of degrees of freedom\"], y=our_results[1][\"Tip displacement (in mm)\"], line_color=matlab_colors[2], name=f\"Ours (2)\", **common),\n",
    "    go.Scatter(x=our_results[2][\"Number of degrees of freedom\"], y=our_results[2][\"Tip displacement (in mm)\"], line_color=matlab_colors[3], name=f\"Ours (3)\", **common),\n",
    "    go.Scatter(x=our_results[-1][\"Number of degrees of freedom\"], y=our_results[-1][\"Tip displacement (in mm)\"], line_color=matlab_colors[4], name=\"Ours (swap+smooth)\", **common),\n",
    "    # go.Scatter(x=Q2_results[1:][\"Number of degrees of freedom\"], y=Q2_results[1:][\"Tip displacement (in mm)\"], name=\"Q2\", line_color=matlab_colors[3], **common),\n",
    "])\n",
    "\n",
    "for tol in tols:\n",
    "    text = r\"${}{:g}~\\text{{{}J}}$\".format(\n",
    "        r'\\delta_s = ' if tol == 1e3 else '',\n",
    "        tol / (1000 if tol >= 100  else (1/1000 if tol <= 1e-2 else 1)), \n",
    "        \"μ\" if tol >= 100 else (\"p\" if tol <= 1e-2 else \"n\")\n",
    "    )\n",
    "    fig.add_annotation(\n",
    "        x=np.log10(our_results[-1].loc[tol][\"Number of degrees of freedom\"]),\n",
    "        y=our_results[-1].loc[tol][\"Tip displacement (in mm)\"],\n",
    "        text=text,\n",
    "        font=dict(\n",
    "            family=\"Linux Biolinum O\",\n",
    "            size=font_size*0.8,\n",
    "            color=matlab_colors[4]\n",
    "        ),\n",
    "        align=\"center\",\n",
    "        showarrow=False,\n",
    "        arrowhead=3,\n",
    "        arrowcolor=matlab_colors[4],\n",
    "        arrowwidth=2,\n",
    "        yshift=20 if tol >= 100 else -20,\n",
    "        xshift=-30 if tol > 100 else 0,\n",
    "        ay=40\n",
    "    )\n",
    "\n",
    "fig.update_layout(\n",
    "    # title_text=\"Cantilever Convergence\",\n",
    "    xaxis_title=\"Degrees of Freedom\",\n",
    "    yaxis_title=\"Tip Displacement (mm)\",\n",
    "    xaxis_type=\"log\",\n",
    "    # xaxis_dtick=1,\n",
    "    **paper_style(aspect_ratio=1/2),\n",
    ")\n",
    "\n",
    "fig.show()\n",
    "fig.write_image(\"cantilever.pdf\")"
   ]
  },
  {
   "cell_type": "code",
   "execution_count": null,
   "metadata": {},
   "outputs": [],
   "source": []
  }
 ],
 "metadata": {
  "kernelspec": {
   "display_name": "Python 3",
   "language": "python",
   "name": "python3"
  },
  "language_info": {
   "codemirror_mode": {
    "name": "ipython",
    "version": 3
   },
   "file_extension": ".py",
   "mimetype": "text/x-python",
   "name": "python",
   "nbconvert_exporter": "python",
   "pygments_lexer": "ipython3",
   "version": "3.11.2"
  },
  "orig_nbformat": 4
 },
 "nbformat": 4,
 "nbformat_minor": 2
}
