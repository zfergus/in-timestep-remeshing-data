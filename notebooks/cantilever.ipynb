{
 "cells": [
  {
   "cell_type": "code",
   "execution_count": 1,
   "metadata": {},
   "outputs": [],
   "source": [
    "import pathlib\n",
    "import meshio\n",
    "import pandas as pd\n",
    "import numpy as np\n",
    "import igl"
   ]
  },
  {
   "cell_type": "code",
   "execution_count": 2,
   "metadata": {},
   "outputs": [],
   "source": [
    "results_root = pathlib.Path(\"/Users/zachary/Desktop/cantilever-convergence/\")"
   ]
  },
  {
   "cell_type": "code",
   "execution_count": 3,
   "metadata": {},
   "outputs": [
    {
     "name": "stdout",
     "output_type": "stream",
     "text": [
      "                  Tip y-displacement (in mm) Number of degrees of freedom\n",
      "Elements per edge                                                        \n",
      "2                                  10.979554                           18\n",
      "4                                  16.286991                           50\n",
      "8                                  19.014168                          162\n",
      "16                                 19.988554                          578\n",
      "32                                 20.304425                         2178\n",
      "64                                 20.407551                         8450\n",
      "Ours                               19.942987                          896\n"
     ]
    }
   ],
   "source": [
    "results = pd.DataFrame(columns=[\"Tip y-displacement (in mm)\", \"Number of degrees of freedom\"], index=(2**np.arange(1, 7)).tolist()+[\"Ours\"])\n",
    "results.index.name = \"Elements per edge\"\n",
    "for i in range(1, 7):\n",
    "    n_edges = 2**i\n",
    "    mesh = meshio.read(results_root / f\"edges={n_edges}\" / \"step_10.vtu\")\n",
    "    pi = np.argwhere(np.linalg.norm(mesh.points - [48, 60, 0], axis=1) < 1e-12)[0]\n",
    "    # results.loc[n_edges][\"Tip y-displacement (in mm)\"] = float(mesh.point_data[\"solution\"][pi, 1])\n",
    "    results.loc[n_edges][\"Tip y-displacement (in mm)\"] = np.linalg.norm(mesh.point_data[\"solution\"][pi])\n",
    "    V, _, _, _ = igl.remove_duplicate_vertices(mesh.points.astype(float), mesh.cells[0].data.astype(int), 1e-12)\n",
    "    results.loc[n_edges][\"Number of degrees of freedom\"] = V.shape[0] * 2\n",
    "mesh = meshio.read(results_root / f\"ours\" / \"step_30.vtu\")\n",
    "pi = np.argwhere(np.linalg.norm(mesh.points - [48, 60, 0], axis=1) < 1e-12)[0]\n",
    "V, _, _, _ = igl.remove_duplicate_vertices(mesh.points.astype(float), mesh.cells[0].data.astype(int), 1e-12)\n",
    "# results.loc[\"Ours\"][\"Tip y-displacement (in mm)\"] = float(mesh.point_data[\"solution\"][pi, 1])\n",
    "results.loc[\"Ours\"][\"Tip y-displacement (in mm)\"] = np.linalg.norm(mesh.point_data[\"solution\"][pi])\n",
    "results.loc[\"Ours\"][\"Number of degrees of freedom\"] = V.shape[0] * 2\n",
    "print(results)"
   ]
  },
  {
   "cell_type": "code",
   "execution_count": null,
   "metadata": {},
   "outputs": [],
   "source": []
  },
  {
   "cell_type": "code",
   "execution_count": null,
   "metadata": {},
   "outputs": [],
   "source": []
  }
 ],
 "metadata": {
  "kernelspec": {
   "display_name": "Python 3",
   "language": "python",
   "name": "python3"
  },
  "language_info": {
   "codemirror_mode": {
    "name": "ipython",
    "version": 3
   },
   "file_extension": ".py",
   "mimetype": "text/x-python",
   "name": "python",
   "nbconvert_exporter": "python",
   "pygments_lexer": "ipython3",
   "version": "3.11.2"
  },
  "orig_nbformat": 4
 },
 "nbformat": 4,
 "nbformat_minor": 2
}
