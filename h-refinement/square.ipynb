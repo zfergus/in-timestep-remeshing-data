{
 "cells": [
  {
   "cell_type": "code",
   "execution_count": 187,
   "metadata": {},
   "outputs": [],
   "source": [
    "import numpy as np\n",
    "import meshplot as mp\n",
    "import meshio\n",
    "import triangle\n",
    "import igl"
   ]
  },
  {
   "cell_type": "code",
   "execution_count": 193,
   "metadata": {},
   "outputs": [],
   "source": [
    "def generate_isotropic_square(n=50, allow_steiner=True):\n",
    "    points = []\n",
    "    for x in np.linspace(0, 1, n):\n",
    "        for y in [0, 1]:\n",
    "            points.append([x, y])\n",
    "    for y in np.linspace(0, 1, n):\n",
    "        for x in [0, 1]:\n",
    "            points.append([x, y])\n",
    "    points = np.array(points) - [0.5, 0.5] # center the square\n",
    "    max_area = 1 / n**2\n",
    "    tri = triangle.triangulate({\"vertices\": points}, f'{\"\" if allow_steiner else \"Y\"}a{max_area:f}q')\n",
    "    return meshio.Mesh(tri[\"vertices\"], [(\"triangle\", tri[\"triangles\"])])"
   ]
  },
  {
   "cell_type": "code",
   "execution_count": 194,
   "metadata": {},
   "outputs": [],
   "source": [
    "def generate_anisotropic_square(nx=50, p=3, min_ny=4, max_ny=None, allow_steiner=True):\n",
    "    points = []\n",
    "    if max_ny is None:\n",
    "        max_ny = nx\n",
    "    for x in np.linspace(0, 1, nx):\n",
    "        ny = int((max_ny - min_ny) * (1 - x) + min_ny)\n",
    "        for y in np.linspace(0, 1, ny):\n",
    "            points.append([x**p, y])\n",
    "    points = np.array(points) - [0.5, 0.5] # center the square\n",
    "\n",
    "    tri = triangle.triangulate({\"vertices\": points}, f'{\"\" if allow_steiner else \"Y\"}q')\n",
    "    return meshio.Mesh(tri[\"vertices\"], [(\"triangle\", tri[\"triangles\"])])"
   ]
  },
  {
   "cell_type": "code",
   "execution_count": 195,
   "metadata": {},
   "outputs": [],
   "source": [
    "def plot_mesh(mesh, **kwargs):\n",
    "    shading = {\n",
    "        \"flat\": True, # Flat or smooth shading of triangles\n",
    "        \"wireframe\": True, \"wire_width\": 0.1, \"wire_color\": \"black\", # Wireframe rendering\n",
    "        \"width\": 600, \"height\": 600, # Size of the viewer canvas\n",
    "        \"antialias\": True, # Antialising, might not work on all GPUs\n",
    "        \"scale\": 2.0, # Scaling of the model\n",
    "        \"side\": \"DoubleSide\", # FrontSide, BackSide or DoubleSide rendering of the triangles\n",
    "        \"colormap\": \"viridis\", \"normalize\": [None, None], # Colormap and normalization for colors\n",
    "        \"background\": \"#ffffff\", # Background color of the canvas\n",
    "        \"line_width\": 2.0, \"line_color\": \"black\", # Line properties of overlay lines\n",
    "        \"bbox\": False, # Enable plotting of bounding box\n",
    "        \"point_color\": \"red\", \"point_size\": 0.05 # Point properties of overlay points\n",
    "    }\n",
    "    shading.update(kwargs)\n",
    "    return mp.plot(mesh.points, mesh.cells[0].data, shading=shading)"
   ]
  },
  {
   "cell_type": "code",
   "execution_count": 196,
   "metadata": {},
   "outputs": [
    {
     "data": {
      "application/vnd.jupyter.widget-view+json": {
       "model_id": "8ec52f75deb543d4b17c5dfbf0f8c6aa",
       "version_major": 2,
       "version_minor": 0
      },
      "text/plain": [
       "Renderer(camera=PerspectiveCamera(children=(DirectionalLight(color='white', intensity=0.6, position=(0.0, 0.0,…"
      ]
     },
     "metadata": {},
     "output_type": "display_data"
    },
    {
     "data": {
      "text/plain": [
       "<meshplot.Viewer.Viewer at 0x10f706f70>"
      ]
     },
     "execution_count": 196,
     "metadata": {},
     "output_type": "execute_result"
    }
   ],
   "source": [
    "for n in [2, 10, 20, 30, 40, 50]:\n",
    "    n = int(n)\n",
    "    isotropic_square = generate_isotropic_square(n=n)\n",
    "    isotropic_square.write(f\"isotropic_square_n={n}.msh\", file_format=\"gmsh\")\n",
    "plot_mesh(isotropic_square)"
   ]
  },
  {
   "cell_type": "code",
   "execution_count": 192,
   "metadata": {},
   "outputs": [
    {
     "data": {
      "application/vnd.jupyter.widget-view+json": {
       "model_id": "395944b3dbf146f3a40d460c0b369aef",
       "version_major": 2,
       "version_minor": 0
      },
      "text/plain": [
       "Renderer(camera=PerspectiveCamera(children=(DirectionalLight(color='white', intensity=0.6, position=(0.0, 0.0,…"
      ]
     },
     "metadata": {},
     "output_type": "display_data"
    },
    {
     "data": {
      "text/plain": [
       "<meshplot.Viewer.Viewer at 0x10f4f3790>"
      ]
     },
     "execution_count": 192,
     "metadata": {},
     "output_type": "execute_result"
    }
   ],
   "source": [
    "anisotropic_square = generate_anisotropic_square()\n",
    "anisotropic_square.write(\"anisotropic_square.msh\", file_format=\"gmsh\")\n",
    "plot_mesh(anisotropic_square)"
   ]
  },
  {
   "cell_type": "code",
   "execution_count": null,
   "metadata": {},
   "outputs": [],
   "source": []
  },
  {
   "cell_type": "code",
   "execution_count": null,
   "metadata": {},
   "outputs": [],
   "source": []
  }
 ],
 "metadata": {
  "interpreter": {
   "hash": "949777d72b0d2535278d3dc13498b2535136f6dfe0678499012e853ee9abcab1"
  },
  "kernelspec": {
   "display_name": "Python 3.9.12 64-bit",
   "language": "python",
   "name": "python3"
  },
  "language_info": {
   "codemirror_mode": {
    "name": "ipython",
    "version": 3
   },
   "file_extension": ".py",
   "mimetype": "text/x-python",
   "name": "python",
   "nbconvert_exporter": "python",
   "pygments_lexer": "ipython3",
   "version": "3.9.12"
  },
  "orig_nbformat": 4
 },
 "nbformat": 4,
 "nbformat_minor": 2
}
